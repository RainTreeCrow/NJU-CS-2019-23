{
 "cells": [
  {
   "cell_type": "code",
   "execution_count": 1,
   "metadata": {},
   "outputs": [],
   "source": [
    "import sys\n",
    "import random\n",
    "sys.path.append(\"..\")\n",
    "from data import Lyric\n",
    "from utils import model, attention_visualization"
   ]
  },
  {
   "cell_type": "code",
   "execution_count": 2,
   "metadata": {},
   "outputs": [
    {
     "name": "stderr",
     "output_type": "stream",
     "text": [
      "Building prefix dict from the default dictionary ...\n",
      "Loading model from cache C:\\Users\\SLEEPY~1\\AppData\\Local\\Temp\\jieba.cache\n",
      "Loading model cost 2.983 seconds.\n",
      "Prefix dict has been built successfully.\n"
     ]
    }
   ],
   "source": [
    "dataset = Lyric(batch_size=128, fix_length=32, target_vocab_size=10000)\n",
    "net = model(dataset, model_name=\"果味VC_100.pkl\", train=False)"
   ]
  },
  {
   "cell_type": "code",
   "execution_count": 3,
   "metadata": {},
   "outputs": [],
   "source": [
    "def generator(title, total_sentence=16):\n",
    "    encoder_input = dataset.process(title)\n",
    "    song = []\n",
    "    for i in range(total_sentence):\n",
    "        s = []\n",
    "        output = net.predict(encoder_input)\n",
    "        word = dataset.logist2word(output)[0]\n",
    "        if word in dataset.itos[:50] + [s[0] for s in song[-3:]]:\n",
    "            word = dataset.logist2word(output, topn=3)\n",
    "            word = random.choice(word)\n",
    "        next_input = dataset.stoi[word]\n",
    "        s.append(word)\n",
    "        while word != \"<eos>\":\n",
    "            output = net.next(next_input)\n",
    "            word = dataset.logist2word(output)[0]\n",
    "            next_input = dataset.stoi[word]\n",
    "            s.append(word)\n",
    "        song.append(s[:-1])\n",
    "        encoder_input = dataset.process(\"\".join(s[:-1]))\n",
    "    song = [\"\".join(s) for s in song]\n",
    "    return song"
   ]
  },
  {
   "cell_type": "code",
   "execution_count": 29,
   "metadata": {},
   "outputs": [
    {
     "data": {
      "text/plain": [
       "['我向往的眼睛',\n",
       " '我的光让你照亮',\n",
       " '给我一个时间',\n",
       " '等待你出现',\n",
       " '你一定会看见',\n",
       " '我们的路',\n",
       " '当我们在等待中沉没',\n",
       " '直到会有一天',\n",
       " '你会相信',\n",
       " '如果你需要',\n",
       " '微笑属于我',\n",
       " '我感到无数彩虹',\n",
       " '可忽然看见',\n",
       " '我的眼睛',\n",
       " '无力隐藏',\n",
       " '无力抵抗']"
      ]
     },
     "execution_count": 29,
     "metadata": {},
     "output_type": "execute_result"
    }
   ],
   "source": [
    "generator(\"陌生的眼睛\")"
   ]
  },
  {
   "cell_type": "code",
   "execution_count": 44,
   "metadata": {},
   "outputs": [
    {
     "data": {
      "text/plain": [
       "['你说你将去',\n",
       " '享受浮云的气息',\n",
       " '甜蜜的奇遇',\n",
       " '留下清晰的足迹',\n",
       " '你宛若独立的城',\n",
       " '超音速列车中的光',\n",
       " '你的我看',\n",
       " '你说这夜色',\n",
       " '就像你的影子',\n",
       " '你看这世界',\n",
       " '有一天你会出现',\n",
       " '时间会停在你的',\n",
       " '所有的眼泪',\n",
       " '还在',\n",
       " '一个人',\n",
       " '你指尖在一起']"
      ]
     },
     "execution_count": 44,
     "metadata": {},
     "output_type": "execute_result"
    }
   ],
   "source": [
    "generator(\"最后一盏灯\")"
   ]
  }
 ],
 "metadata": {
  "kernelspec": {
   "display_name": "d2l",
   "language": "python",
   "name": "python3"
  },
  "language_info": {
   "codemirror_mode": {
    "name": "ipython",
    "version": 3
   },
   "file_extension": ".py",
   "mimetype": "text/x-python",
   "name": "python",
   "nbconvert_exporter": "python",
   "pygments_lexer": "ipython3",
   "version": "3.9.16"
  },
  "orig_nbformat": 4
 },
 "nbformat": 4,
 "nbformat_minor": 2
}
