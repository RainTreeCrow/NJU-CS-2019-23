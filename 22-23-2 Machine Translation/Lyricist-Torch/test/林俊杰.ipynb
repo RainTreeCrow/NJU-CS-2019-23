{
 "cells": [
  {
   "cell_type": "code",
   "execution_count": 1,
   "metadata": {
    "collapsed": true
   },
   "outputs": [],
   "source": [
    "import sys\n",
    "import random\n",
    "sys.path.append(\"..\")\n",
    "from data import Lyric\n",
    "from utils import model, attention_visualization"
   ]
  },
  {
   "cell_type": "code",
   "execution_count": 2,
   "metadata": {},
   "outputs": [
    {
     "name": "stderr",
     "output_type": "stream",
     "text": [
      "Building prefix dict from the default dictionary ...\n",
      "Loading model from cache /var/folders/dy/xjy0y7v97js5x1bghby2fnkm0000gn/T/jieba.cache\n",
      "Loading model cost 0.642 seconds.\n",
      "Prefix dict has been built succesfully.\n"
     ]
    }
   ],
   "source": [
    "dataset = Lyric(batch_size=128, fix_length=32, target_vocab_size=10000)\n",
    "net = model(dataset, model_name=\"林俊杰_50.pkl\", train=False)"
   ]
  },
  {
   "cell_type": "code",
   "execution_count": 3,
   "metadata": {
    "collapsed": true
   },
   "outputs": [],
   "source": [
    "def generator(title, total_sentence=16):\n",
    "    encoder_input = dataset.process(title)\n",
    "    song = []\n",
    "    for i in range(total_sentence):\n",
    "        s = []\n",
    "        output = net.predict(encoder_input)\n",
    "        word = dataset.logist2word(output)[0]\n",
    "        if word in dataset.itos[:50] + [s[0] for s in song[-3:]]:\n",
    "            word = dataset.logist2word(output, topn=3)\n",
    "            word = random.choice(word)\n",
    "        next_input = dataset.stoi[word]\n",
    "        s.append(word)\n",
    "        while word != \"<eos>\":\n",
    "            output = net.next(next_input)\n",
    "            word = dataset.logist2word(output)[0]\n",
    "            next_input = dataset.stoi[word]\n",
    "            s.append(word)\n",
    "        song.append(s[:-1])\n",
    "        encoder_input = dataset.process(\"\".join(s[:-1]))\n",
    "    song = [\"\".join(s) for s in song]\n",
    "    return song"
   ]
  },
  {
   "cell_type": "code",
   "execution_count": 4,
   "metadata": {
    "scrolled": false
   },
   "outputs": [
    {
     "name": "stderr",
     "output_type": "stream",
     "text": [
      "/Users/dengxiuqi/anaconda3/lib/python3.6/site-packages/torch/nn/functional.py:1374: UserWarning: nn.functional.tanh is deprecated. Use torch.tanh instead.\n",
      "  warnings.warn(\"nn.functional.tanh is deprecated. Use torch.tanh instead.\")\n"
     ]
    },
    {
     "data": {
      "text/plain": [
       "['像一篇童话诗',\n",
       " '她用知音的方式',\n",
       " '看我弹琴的样子',\n",
       " '从此以後我的脑海就只有一个名字',\n",
       " '唱什麽不一定要懂',\n",
       " '做音乐我让心放纵',\n",
       " '也许你听的很激动',\n",
       " '耶也别太激动',\n",
       " '森林中吹起海洋风',\n",
       " '星空下做着梦',\n",
       " '我想你像看到',\n",
       " '心能找到你的梦想',\n",
       " '梦想会有梦想',\n",
       " '心疼让我们不停到处',\n",
       " '说什么都不说数着',\n",
       " '我知道有时候也需要',\n",
       " '你的心是折磨',\n",
       " '我的心都搁浅',\n",
       " '我的爱开始了',\n",
       " '我的爱是你的我就像好不好']"
      ]
     },
     "execution_count": 4,
     "metadata": {},
     "output_type": "execute_result"
    }
   ],
   "source": [
    "generator(\"江南\")"
   ]
  },
  {
   "cell_type": "code",
   "execution_count": 6,
   "metadata": {},
   "outputs": [
    {
     "name": "stderr",
     "output_type": "stream",
     "text": [
      "/Users/dengxiuqi/anaconda3/lib/python3.6/site-packages/torch/nn/functional.py:1374: UserWarning: nn.functional.tanh is deprecated. Use torch.tanh instead.\n",
      "  warnings.warn(\"nn.functional.tanh is deprecated. Use torch.tanh instead.\")\n"
     ]
    },
    {
     "data": {
      "image/png": "[encoded data removed]",
      "text/plain": [
       "<Figure size 432x288 with 1 Axes>"
      ]
     },
     "metadata": {},
     "output_type": "display_data"
    }
   ],
   "source": [
    "attention_visualization(dataset, net, \"像一篇童话诗\", \"她用知音的方式\")"
   ]
  },
  {
   "cell_type": "code",
   "execution_count": 7,
   "metadata": {},
   "outputs": [
    {
     "name": "stderr",
     "output_type": "stream",
     "text": [
      "/Users/dengxiuqi/anaconda3/lib/python3.6/site-packages/torch/nn/functional.py:1374: UserWarning: nn.functional.tanh is deprecated. Use torch.tanh instead.\n",
      "  warnings.warn(\"nn.functional.tanh is deprecated. Use torch.tanh instead.\")\n"
     ]
    },
    {
     "data": {
      "text/plain": [
       "['假如把犯得起的错',\n",
       " '能错的都错过',\n",
       " '应该有那么懂得感情',\n",
       " '都要在我的身边',\n",
       " '所有的梦都忘记',\n",
       " '我把心烧成火焰',\n",
       " '让怕黑的你拥着温暖入眠',\n",
       " '这一种加油不用回答',\n",
       " '一直一直一直走在一起',\n",
       " '你一直都想看我',\n",
       " '我写的歌是我的',\n",
       " '怎样的影子是我的',\n",
       " '只是我还是要',\n",
       " '只因为我',\n",
       " '任他们说他们看我都不管',\n",
       " '我只要宣布爱你的人就是我',\n",
       " '对没有错就是要',\n",
       " '简简单单就是我爱你爱我',\n",
       " '不需要啰嗦',\n",
       " '我想了就像简简单单的']"
      ]
     },
     "execution_count": 7,
     "metadata": {},
     "output_type": "execute_result"
    }
   ],
   "source": [
    "song = generator(\"可惜没如果\")\n",
    "song"
   ]
  },
  {
   "cell_type": "code",
   "execution_count": 6,
   "metadata": {},
   "outputs": [
    {
     "name": "stderr",
     "output_type": "stream",
     "text": [
      "/Users/dengxiuqi/anaconda3/lib/python3.6/site-packages/torch/nn/functional.py:1374: UserWarning: nn.functional.tanh is deprecated. Use torch.tanh instead.\n",
      "  warnings.warn(\"nn.functional.tanh is deprecated. Use torch.tanh instead.\")\n"
     ]
    },
    {
     "data": {
      "image/png": "[encoded data removed]",
      "text/plain": [
       "<Figure size 432x288 with 1 Axes>"
      ]
     },
     "metadata": {},
     "output_type": "display_data"
    }
   ],
   "source": [
    "attention_visualization(dataset, net, \"假如把犯得起的错\", \"能错的都错过\", file_name=\"4\")"
   ]
  },
  {
   "cell_type": "code",
   "execution_count": 13,
   "metadata": {},
   "outputs": [
    {
     "name": "stderr",
     "output_type": "stream",
     "text": [
      "/Users/dengxiuqi/anaconda3/lib/python3.6/site-packages/torch/nn/functional.py:1374: UserWarning: nn.functional.tanh is deprecated. Use torch.tanh instead.\n",
      "  warnings.warn(\"nn.functional.tanh is deprecated. Use torch.tanh instead.\")\n"
     ]
    },
    {
     "data": {
      "text/plain": [
       "['你的心我的手都不懂',\n",
       " '一直一直在想你',\n",
       " '我是你的姓名',\n",
       " '你是我的',\n",
       " '我是谁的',\n",
       " '当你还没掉怎么就像',\n",
       " '怎么能舍得',\n",
       " '你的笑一点',\n",
       " '都是我',\n",
       " '如果有一天我有我',\n",
       " '什么时候我想你',\n",
       " '和你轮回以后',\n",
       " '只要你相信爱',\n",
       " '我的心有多美',\n",
       " '真的有你有我',\n",
       " '时间需要你的脸',\n",
       " '就让口袋转的',\n",
       " '天后会停了就像晴天',\n",
       " '回忆就在我们的距离',\n",
       " '我们就能自由']"
      ]
     },
     "execution_count": 13,
     "metadata": {},
     "output_type": "execute_result"
    }
   ],
   "source": [
    "generator(\"夜的第七章\")"
   ]
  },
  {
   "cell_type": "code",
   "execution_count": 15,
   "metadata": {},
   "outputs": [
    {
     "name": "stderr",
     "output_type": "stream",
     "text": [
      "/Users/dengxiuqi/anaconda3/lib/python3.6/site-packages/torch/nn/functional.py:1374: UserWarning: nn.functional.tanh is deprecated. Use torch.tanh instead.\n",
      "  warnings.warn(\"nn.functional.tanh is deprecated. Use torch.tanh instead.\")\n"
     ]
    },
    {
     "data": {
      "text/plain": [
       "['从爱里降落',\n",
       " '是我选择才会自由',\n",
       " '为你再造所有',\n",
       " '不死的记忆',\n",
       " '那是无法避免的浩劫',\n",
       " '水窗外的沙漠',\n",
       " '有多少白天都会被祈祷',\n",
       " '只是情绪也让自己慢慢去燃烧',\n",
       " '当你的眼睛都会找到你的安慰',\n",
       " '爱情就像我们一样的距离',\n",
       " '就是最好拥抱',\n",
       " '手就不会单调',\n",
       " '我想我不会',\n",
       " '他的心我的心我的心都孤独',\n",
       " '我不要到处的所有渴望自己',\n",
       " '我只为你爱着我',\n",
       " '看到你的项链',\n",
       " '却不在我身旁',\n",
       " '这一路方向',\n",
       " '我们的世界没有人有']"
      ]
     },
     "execution_count": 15,
     "metadata": {},
     "output_type": "execute_result"
    }
   ],
   "source": [
    "generator(\"小幸运\")"
   ]
  },
  {
   "cell_type": "code",
   "execution_count": 7,
   "metadata": {},
   "outputs": [
    {
     "name": "stderr",
     "output_type": "stream",
     "text": [
      "/Users/dengxiuqi/anaconda3/lib/python3.6/site-packages/torch/nn/functional.py:1374: UserWarning: nn.functional.tanh is deprecated. Use torch.tanh instead.\n",
      "  warnings.warn(\"nn.functional.tanh is deprecated. Use torch.tanh instead.\")\n"
     ]
    },
    {
     "data": {
      "image/png": "[encoded data removed]",
      "text/plain": [
       "<Figure size 432x288 with 1 Axes>"
      ]
     },
     "metadata": {},
     "output_type": "display_data"
    }
   ],
   "source": [
    "attention_visualization(dataset, net, \"他的心我的心我的心都孤独\", \"我不要到处的所有渴望自己\", file_name=\"5\")"
   ]
  },
  {
   "cell_type": "code",
   "execution_count": 5,
   "metadata": {},
   "outputs": [
    {
     "name": "stderr",
     "output_type": "stream",
     "text": [
      "/Users/dengxiuqi/anaconda3/lib/python3.6/site-packages/torch/nn/functional.py:1374: UserWarning: nn.functional.tanh is deprecated. Use torch.tanh instead.\n",
      "  warnings.warn(\"nn.functional.tanh is deprecated. Use torch.tanh instead.\")\n"
     ]
    },
    {
     "data": {
      "text/plain": [
       "['当两颗心开始震动',\n",
       " '从我们到未来',\n",
       " '所有爱都是',\n",
       " '一切都不重要',\n",
       " '我脆弱的心脆弱',\n",
       " '却不愿被遗忘',\n",
       " '我们的故事是油条',\n",
       " '你拥有的是我的我是你的微笑',\n",
       " '因为爱是曾经存在的地方',\n",
       " '带着我的双手',\n",
       " '就感觉舍不得看自己',\n",
       " '一起走过一起就一起',\n",
       " '说好不见不散',\n",
       " '每分每秒守候你到老',\n",
       " '不管你那侧眼睛会会有一些芬芳',\n",
       " '也许你还没说']"
      ]
     },
     "execution_count": 5,
     "metadata": {},
     "output_type": "execute_result"
    }
   ],
   "source": [
    "generator(\"那些你很冒险的梦\")"
   ]
  },
  {
   "cell_type": "code",
   "execution_count": null,
   "metadata": {
    "collapsed": true
   },
   "outputs": [],
   "source": []
  }
 ],
 "metadata": {
  "kernelspec": {
   "display_name": "Python 3",
   "language": "python",
   "name": "python3"
  },
  "language_info": {
   "codemirror_mode": {
    "name": "ipython",
    "version": 3
   },
   "file_extension": ".py",
   "mimetype": "text/x-python",
   "name": "python",
   "nbconvert_exporter": "python",
   "pygments_lexer": "ipython3",
   "version": "3.6.8"
  }
 },
 "nbformat": 4,
 "nbformat_minor": 2
}
