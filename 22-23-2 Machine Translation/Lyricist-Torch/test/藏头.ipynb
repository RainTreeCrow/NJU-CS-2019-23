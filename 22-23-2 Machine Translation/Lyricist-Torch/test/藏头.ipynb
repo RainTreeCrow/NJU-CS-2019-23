{
 "cells": [
  {
   "cell_type": "code",
   "execution_count": 1,
   "metadata": {
    "collapsed": true
   },
   "outputs": [],
   "source": [
    "import sys\n",
    "import random\n",
    "sys.path.append(\"..\")\n",
    "from data import Lyric\n",
    "from utils import model, attention_visualization"
   ]
  },
  {
   "cell_type": "code",
   "execution_count": 66,
   "metadata": {},
   "outputs": [],
   "source": [
    "dataset = Lyric(batch_size=128, fix_length=32, target_vocab_size=10000)\n",
    "net = model(dataset, model_name=\"陈粒_50.pkl\", train=False)"
   ]
  },
  {
   "cell_type": "code",
   "execution_count": 70,
   "metadata": {
    "collapsed": true
   },
   "outputs": [],
   "source": [
    "def generator(title, head=\"\", total_sentence=6):\n",
    "    encoder_input = dataset.process(title)\n",
    "    song = []\n",
    "    for i in range(total_sentence):\n",
    "        s = []\n",
    "        output = net.predict(encoder_input)\n",
    "        word = dataset.logist2word(output)[0]            \n",
    "        if word in dataset.itos[:50] + [s[0] for s in song[-3:]]:\n",
    "            word = dataset.logist2word(output, topn=3)\n",
    "            word = random.choice(word)\n",
    "        if len(head) > len(song):\n",
    "            word = head[len(song)]\n",
    "        next_input = dataset.stoi[word]\n",
    "        s.append(word)\n",
    "        while word != \"<eos>\":\n",
    "            output = net.next(next_input)\n",
    "            word = random.choice(dataset.logist2word(output, topn=3))\n",
    "            next_input = dataset.stoi[word]\n",
    "            s.append(word)\n",
    "        song.append(s[:-1])\n",
    "        encoder_input = dataset.process(\"\".join(s[:-1]))\n",
    "    song = [\"\".join(s) for s in song]\n",
    "    return song"
   ]
  },
  {
   "cell_type": "code",
   "execution_count": 78,
   "metadata": {},
   "outputs": [
    {
     "name": "stderr",
     "output_type": "stream",
     "text": [
      "/Users/dengxiuqi/anaconda3/lib/python3.6/site-packages/torch/nn/functional.py:1374: UserWarning: nn.functional.tanh is deprecated. Use torch.tanh instead.\n",
      "  warnings.warn(\"nn.functional.tanh is deprecated. Use torch.tanh instead.\")\n"
     ]
    },
    {
     "data": {
      "text/plain": [
       "['黎指上我只笑笑是',\n",
       " '文雪在夜',\n",
       " '节好你',\n",
       " '人生是你梦的懒惰的好的东西那么好的好',\n",
       " '你的好你不像我们只记得',\n",
       " '什么才是我们无关人的的好的']"
      ]
     },
     "execution_count": 78,
     "metadata": {},
     "output_type": "execute_result"
    }
   ],
   "source": [
    "generator(\"从前从前有个人爱你很久\", \"黎文节\")"
   ]
  },
  {
   "cell_type": "code",
   "execution_count": null,
   "metadata": {
    "collapsed": true
   },
   "outputs": [],
   "source": []
  }
 ],
 "metadata": {
  "kernelspec": {
   "display_name": "Python 3",
   "language": "python",
   "name": "python3"
  },
  "language_info": {
   "codemirror_mode": {
    "name": "ipython",
    "version": 3
   },
   "file_extension": ".py",
   "mimetype": "text/x-python",
   "name": "python",
   "nbconvert_exporter": "python",
   "pygments_lexer": "ipython3",
   "version": "3.6.8"
  }
 },
 "nbformat": 4,
 "nbformat_minor": 2
}
