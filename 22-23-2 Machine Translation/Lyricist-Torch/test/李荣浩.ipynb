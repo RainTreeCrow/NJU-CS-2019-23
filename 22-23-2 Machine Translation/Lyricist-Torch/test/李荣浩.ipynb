{
 "cells": [
  {
   "cell_type": "code",
   "execution_count": 1,
   "metadata": {
    "collapsed": true
   },
   "outputs": [],
   "source": [
    "import sys\n",
    "import random\n",
    "sys.path.append(\"..\")\n",
    "from data import Lyric\n",
    "from utils import model, attention_visualization"
   ]
  },
  {
   "cell_type": "code",
   "execution_count": 2,
   "metadata": {},
   "outputs": [
    {
     "name": "stderr",
     "output_type": "stream",
     "text": [
      "Building prefix dict from the default dictionary ...\n",
      "Loading model from cache /var/folders/dy/xjy0y7v97js5x1bghby2fnkm0000gn/T/jieba.cache\n",
      "Loading model cost 0.616 seconds.\n",
      "Prefix dict has been built succesfully.\n"
     ]
    }
   ],
   "source": [
    "dataset = Lyric(batch_size=128, fix_length=32, target_vocab_size=10000)\n",
    "net = model(dataset, model_name=\"李荣浩_50.pkl\", train=False)"
   ]
  },
  {
   "cell_type": "code",
   "execution_count": 3,
   "metadata": {
    "collapsed": true
   },
   "outputs": [],
   "source": [
    "def generator(title, total_sentence=16):\n",
    "    encoder_input = dataset.process(title)\n",
    "    song = []\n",
    "    for i in range(total_sentence):\n",
    "        s = []\n",
    "        output = net.predict(encoder_input)\n",
    "        word = dataset.logist2word(output)[0]\n",
    "        if word in dataset.itos[:50] + [s[0] for s in song[-3:]]:\n",
    "            word = dataset.logist2word(output, topn=3)\n",
    "            word = random.choice(word)\n",
    "        next_input = dataset.stoi[word]\n",
    "        s.append(word)\n",
    "        while word != \"<eos>\":\n",
    "            output = net.next(next_input)\n",
    "            word = dataset.logist2word(output)[0]\n",
    "            next_input = dataset.stoi[word]\n",
    "            s.append(word)\n",
    "        song.append(s[:-1])\n",
    "        encoder_input = dataset.process(\"\".join(s[:-1]))\n",
    "    song = [\"\".join(s) for s in song]\n",
    "    return song"
   ]
  },
  {
   "cell_type": "code",
   "execution_count": 7,
   "metadata": {},
   "outputs": [
    {
     "name": "stderr",
     "output_type": "stream",
     "text": [
      "/Users/dengxiuqi/anaconda3/lib/python3.6/site-packages/torch/nn/functional.py:1374: UserWarning: nn.functional.tanh is deprecated. Use torch.tanh instead.\n",
      "  warnings.warn(\"nn.functional.tanh is deprecated. Use torch.tanh instead.\")\n"
     ]
    },
    {
     "data": {
      "text/plain": [
       "['那时候我以为爱的是生活',\n",
       " '我为什么会这样念念又不忘',\n",
       " '就这样就会这样',\n",
       " '你不用不自然',\n",
       " '你也不要说需要我原谅',\n",
       " '别让我多想',\n",
       " '别再让我流泪',\n",
       " '谁又会明白',\n",
       " '一生都这样',\n",
       " '不喜欢的人',\n",
       " '还是为了看你的眼光',\n",
       " '当你笑着看我看你一会',\n",
       " '你说的是我只是你',\n",
       " '我说哎呀',\n",
       " '没去过这地方是个季节',\n",
       " '经过了一段段']"
      ]
     },
     "execution_count": 7,
     "metadata": {},
     "output_type": "execute_result"
    }
   ],
   "source": [
    "generator(\"不将就\")"
   ]
  },
  {
   "cell_type": "code",
   "execution_count": 7,
   "metadata": {
    "scrolled": false
   },
   "outputs": [
    {
     "name": "stderr",
     "output_type": "stream",
     "text": [
      "/home/albert/anaconda3/lib/python3.6/site-packages/torch/nn/functional.py:1374: UserWarning: nn.functional.tanh is deprecated. Use torch.tanh instead.\n",
      "  warnings.warn(\"nn.functional.tanh is deprecated. Use torch.tanh instead.\")\n"
     ]
    },
    {
     "data": {
      "text/plain": [
       "['茫茫时空蔚蓝星球埋藏过往一段',\n",
       " '一轮明月照出的是光明和呐喊',\n",
       " '太阳光辉背后藏着深不见底的黑暗',\n",
       " '无穷的力量掩盖的是可笑的背叛',\n",
       " '英雄只能英雄都是一种鼓励',\n",
       " '多少灯亮到现在我们都不懂',\n",
       " '你的眼睛我的眼睛是一道伤痕累累',\n",
       " '简单的音符就越简单',\n",
       " '我知道你不喜欢什么',\n",
       " '听你说的是谁的另一个',\n",
       " '像诗说的就是什么',\n",
       " '现在你算了我知道',\n",
       " '因为你的好我还是',\n",
       " '你的我',\n",
       " '我为什么会这样念念又不忘',\n",
       " '就这样就会这样',\n",
       " '怕真相太难看',\n",
       " '我想对爱情还抱有希望',\n",
       " '反正你也没差',\n",
       " '我想我']"
      ]
     },
     "execution_count": 7,
     "metadata": {},
     "output_type": "execute_result"
    }
   ],
   "source": [
    "generator(\"李白\")"
   ]
  },
  {
   "cell_type": "code",
   "execution_count": 4,
   "metadata": {},
   "outputs": [
    {
     "name": "stderr",
     "output_type": "stream",
     "text": [
      "/Users/dengxiuqi/anaconda3/lib/python3.6/site-packages/torch/nn/functional.py:1374: UserWarning: nn.functional.tanh is deprecated. Use torch.tanh instead.\n",
      "  warnings.warn(\"nn.functional.tanh is deprecated. Use torch.tanh instead.\")\n"
     ]
    },
    {
     "data": {
      "image/png": "[encoded data removed]",
      "text/plain": [
       "<Figure size 432x288 with 1 Axes>"
      ]
     },
     "metadata": {},
     "output_type": "display_data"
    }
   ],
   "source": [
    "attention_visualization(dataset, net, \"茫茫时空蔚蓝星球埋藏过往一段\", \"一轮明月照出的是光明和呐喊\", file_name=\"3\")"
   ]
  },
  {
   "cell_type": "code",
   "execution_count": 12,
   "metadata": {},
   "outputs": [
    {
     "name": "stderr",
     "output_type": "stream",
     "text": [
      "/Users/dengxiuqi/anaconda3/lib/python3.6/site-packages/torch/nn/functional.py:1374: UserWarning: nn.functional.tanh is deprecated. Use torch.tanh instead.\n",
      "  warnings.warn(\"nn.functional.tanh is deprecated. Use torch.tanh instead.\")\n"
     ]
    },
    {
     "data": {
      "text/plain": [
       "['你说过的歌我还能写',\n",
       " '我为什么会这样念念又不忘',\n",
       " '我用你的牌你的悲伤',\n",
       " '还是为了什么',\n",
       " '为了什么我又找什么',\n",
       " '我的爱情就是你',\n",
       " '你喜欢的年纪',\n",
       " '说的不是不喜欢',\n",
       " '我想我都不了解',\n",
       " '我知道你后悔',\n",
       " '假如你在等我',\n",
       " '我可以',\n",
       " '我在等你',\n",
       " '在你的眼里',\n",
       " '你的眼睛让我感到失望',\n",
       " '原来你是个节拍']"
      ]
     },
     "execution_count": 12,
     "metadata": {},
     "output_type": "execute_result"
    }
   ],
   "source": [
    "generator(\"演员\")"
   ]
  },
  {
   "cell_type": "code",
   "execution_count": 8,
   "metadata": {},
   "outputs": [
    {
     "name": "stderr",
     "output_type": "stream",
     "text": [
      "/Users/dengxiuqi/anaconda3/lib/python3.6/site-packages/torch/nn/functional.py:1374: UserWarning: nn.functional.tanh is deprecated. Use torch.tanh instead.\n",
      "  warnings.warn(\"nn.functional.tanh is deprecated. Use torch.tanh instead.\")\n"
     ]
    },
    {
     "data": {
      "text/plain": [
       "['我听说对不起',\n",
       " '也算是个约定',\n",
       " '都是一样',\n",
       " '每个人都活在现在',\n",
       " '都知道',\n",
       " '尝过几次心酸',\n",
       " '酸的刻骨明白',\n",
       " '再努力的装扮',\n",
       " '还是个越来越平凡',\n",
       " '人群中找温暖',\n",
       " '又想起感慨',\n",
       " '给我的美好',\n",
       " '这给我唱的是我的错',\n",
       " '每一个人都在等我的人',\n",
       " '都没有所谓',\n",
       " '失去的孤独']"
      ]
     },
     "execution_count": 8,
     "metadata": {},
     "output_type": "execute_result"
    }
   ],
   "source": [
    "generator(\"十年\")"
   ]
  },
  {
   "cell_type": "code",
   "execution_count": null,
   "metadata": {
    "collapsed": true
   },
   "outputs": [],
   "source": []
  }
 ],
 "metadata": {
  "kernelspec": {
   "display_name": "Python 3",
   "language": "python",
   "name": "python3"
  },
  "language_info": {
   "codemirror_mode": {
    "name": "ipython",
    "version": 3
   },
   "file_extension": ".py",
   "mimetype": "text/x-python",
   "name": "python",
   "nbconvert_exporter": "python",
   "pygments_lexer": "ipython3",
   "version": "3.6.8"
  }
 },
 "nbformat": 4,
 "nbformat_minor": 2
}
