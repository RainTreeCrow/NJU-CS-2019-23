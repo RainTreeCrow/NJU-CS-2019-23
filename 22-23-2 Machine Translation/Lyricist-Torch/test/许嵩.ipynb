{
 "cells": [
  {
   "cell_type": "code",
   "execution_count": 1,
   "metadata": {
    "collapsed": true
   },
   "outputs": [],
   "source": [
    "import sys\n",
    "import random\n",
    "sys.path.append(\"..\")\n",
    "from data import Lyric\n",
    "from utils import model, attention_visualization"
   ]
  },
  {
   "cell_type": "code",
   "execution_count": 2,
   "metadata": {},
   "outputs": [
    {
     "name": "stderr",
     "output_type": "stream",
     "text": [
      "Building prefix dict from the default dictionary ...\n",
      "Loading model from cache /var/folders/dy/xjy0y7v97js5x1bghby2fnkm0000gn/T/jieba.cache\n",
      "Loading model cost 0.616 seconds.\n",
      "Prefix dict has been built succesfully.\n"
     ]
    }
   ],
   "source": [
    "dataset = Lyric(batch_size=128, fix_length=32, target_vocab_size=10000)\n",
    "net = model(dataset, model_name=\"许嵩_50.pkl\", train=False)"
   ]
  },
  {
   "cell_type": "code",
   "execution_count": 3,
   "metadata": {
    "collapsed": true
   },
   "outputs": [],
   "source": [
    "def generator(title, total_sentence=16):\n",
    "    encoder_input = dataset.process(title)\n",
    "    song = []\n",
    "    for i in range(total_sentence):\n",
    "        s = []\n",
    "        output = net.predict(encoder_input)\n",
    "        word = dataset.logist2word(output)[0]\n",
    "        if word in dataset.itos[:50] + [s[0] for s in song[-3:]]:\n",
    "            word = dataset.logist2word(output, topn=3)\n",
    "            word = random.choice(word)\n",
    "        next_input = dataset.stoi[word]\n",
    "        s.append(word)\n",
    "        while word != \"<eos>\":\n",
    "            output = net.next(next_input)\n",
    "            word = dataset.logist2word(output)[0]\n",
    "            next_input = dataset.stoi[word]\n",
    "            s.append(word)\n",
    "        song.append(s[:-1])\n",
    "        encoder_input = dataset.process(\"\".join(s[:-1]))\n",
    "    song = [\"\".join(s) for s in song]\n",
    "    return song"
   ]
  },
  {
   "cell_type": "code",
   "execution_count": 4,
   "metadata": {},
   "outputs": [
    {
     "name": "stderr",
     "output_type": "stream",
     "text": [
      "/Users/dengxiuqi/anaconda3/lib/python3.6/site-packages/torch/nn/functional.py:1374: UserWarning: nn.functional.tanh is deprecated. Use torch.tanh instead.\n",
      "  warnings.warn(\"nn.functional.tanh is deprecated. Use torch.tanh instead.\")\n"
     ]
    },
    {
     "data": {
      "text/plain": [
       "['往事入纷飞',\n",
       " '当我们丢失了回忆',\n",
       " '你曾以为我很爱你',\n",
       " '在过的世界我和你',\n",
       " '你的城府有多深',\n",
       " '我爱的有多蠢不想再问',\n",
       " '也无法去恨毕竟你是我最爱的人',\n",
       " '我曾经苦笑着问过我自己',\n",
       " '在某个夜里卸下伪装的你',\n",
       " '是不是是你最爱的时候',\n",
       " '好多的温柔的脸',\n",
       " '深爱再问你',\n",
       " '你说如今年会要记得你已经好',\n",
       " '我的今天有时很忙',\n",
       " '我和你在一起',\n",
       " '我在这里']"
      ]
     },
     "execution_count": 4,
     "metadata": {},
     "output_type": "execute_result"
    }
   ],
   "source": [
    "generator(\"清明庐州月\")"
   ]
  },
  {
   "cell_type": "code",
   "execution_count": 7,
   "metadata": {
    "scrolled": true
   },
   "outputs": [
    {
     "name": "stderr",
     "output_type": "stream",
     "text": [
      "/Users/dengxiuqi/anaconda3/lib/python3.6/site-packages/torch/nn/functional.py:1374: UserWarning: nn.functional.tanh is deprecated. Use torch.tanh instead.\n",
      "  warnings.warn(\"nn.functional.tanh is deprecated. Use torch.tanh instead.\")\n"
     ]
    },
    {
     "data": {
      "text/plain": [
       "['天空出现的好的',\n",
       " '感觉你还在',\n",
       " '离开你的心',\n",
       " '我想牵着你的手',\n",
       " '两个人去宇宙',\n",
       " '没引力左右',\n",
       " '夜还在静',\n",
       " '谁是我的朋友',\n",
       " '谁有桃花的味道',\n",
       " '爱情就有属于未来',\n",
       " '一起去走就会哭泣',\n",
       " '最后会有我的时间',\n",
       " '这几年的爱情',\n",
       " '一个人听歌总是会觉得失落',\n",
       " '这世界很多问题',\n",
       " '如果你是我的错']"
      ]
     },
     "execution_count": 7,
     "metadata": {},
     "output_type": "execute_result"
    }
   ],
   "source": [
    "generator(\"素颜\")"
   ]
  },
  {
   "cell_type": "code",
   "execution_count": 9,
   "metadata": {},
   "outputs": [
    {
     "name": "stderr",
     "output_type": "stream",
     "text": [
      "/Users/dengxiuqi/anaconda3/lib/python3.6/site-packages/torch/nn/functional.py:1374: UserWarning: nn.functional.tanh is deprecated. Use torch.tanh instead.\n",
      "  warnings.warn(\"nn.functional.tanh is deprecated. Use torch.tanh instead.\")\n"
     ]
    },
    {
     "data": {
      "text/plain": [
       "['别等到全球已被人带走',\n",
       " '会不会再寂寞',\n",
       " '你说的不多',\n",
       " '我说你是不出的事情',\n",
       " '我说你已经不爱你',\n",
       " '你说你不爱我的我',\n",
       " '这是我的爱',\n",
       " '你说爱我的人',\n",
       " '在这里我都还爱你',\n",
       " '我喜欢你',\n",
       " '总想你看最后',\n",
       " '一人就会幻想',\n",
       " '偷偷的任性看着我的时候',\n",
       " '看着爱的歌还能不能捧着梦',\n",
       " '飞走了',\n",
       " '谁又为谁鼓掌']"
      ]
     },
     "execution_count": 9,
     "metadata": {},
     "output_type": "execute_result"
    }
   ],
   "source": [
    "generator(\"烟花易冷\")"
   ]
  },
  {
   "cell_type": "code",
   "execution_count": 11,
   "metadata": {},
   "outputs": [
    {
     "name": "stderr",
     "output_type": "stream",
     "text": [
      "/Users/dengxiuqi/anaconda3/lib/python3.6/site-packages/torch/nn/functional.py:1374: UserWarning: nn.functional.tanh is deprecated. Use torch.tanh instead.\n",
      "  warnings.warn(\"nn.functional.tanh is deprecated. Use torch.tanh instead.\")\n"
     ]
    },
    {
     "data": {
      "text/plain": [
       "['我们曾在这里等你的徜徉',\n",
       " '和我去寻找',\n",
       " '最佳的旅程',\n",
       " '你在北方',\n",
       " '昨夜的你',\n",
       " '我们说好多少不去',\n",
       " '已经曾有不同的',\n",
       " '当时的那首歌',\n",
       " '你说过的爱就会',\n",
       " '在记录你的心',\n",
       " '我想你已经化成了一个',\n",
       " '你是可以的我',\n",
       " '我是可以什么',\n",
       " '可我是可以什么',\n",
       " '我们是怎么了',\n",
       " '感觉到了了']"
      ]
     },
     "execution_count": 11,
     "metadata": {},
     "output_type": "execute_result"
    }
   ],
   "source": [
    "generator(\"江南\")"
   ]
  },
  {
   "cell_type": "code",
   "execution_count": null,
   "metadata": {
    "collapsed": true
   },
   "outputs": [],
   "source": []
  }
 ],
 "metadata": {
  "kernelspec": {
   "display_name": "Python 3",
   "language": "python",
   "name": "python3"
  },
  "language_info": {
   "codemirror_mode": {
    "name": "ipython",
    "version": 3
   },
   "file_extension": ".py",
   "mimetype": "text/x-python",
   "name": "python",
   "nbconvert_exporter": "python",
   "pygments_lexer": "ipython3",
   "version": "3.6.8"
  }
 },
 "nbformat": 4,
 "nbformat_minor": 2
}
