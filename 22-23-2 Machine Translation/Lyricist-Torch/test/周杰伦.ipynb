{
 "cells": [
  {
   "cell_type": "code",
   "execution_count": 1,
   "metadata": {
    "collapsed": true
   },
   "outputs": [],
   "source": [
    "import sys\n",
    "import random\n",
    "sys.path.append(\"..\")\n",
    "from data import Lyric\n",
    "from utils import model, attention_visualization"
   ]
  },
  {
   "cell_type": "code",
   "execution_count": 2,
   "metadata": {
    "scrolled": true
   },
   "outputs": [
    {
     "name": "stderr",
     "output_type": "stream",
     "text": [
      "Building prefix dict from the default dictionary ...\n",
      "Dumping model to file cache /var/folders/dy/xjy0y7v97js5x1bghby2fnkm0000gn/T/jieba.cache\n",
      "Loading model cost 0.844 seconds.\n",
      "Prefix dict has been built succesfully.\n"
     ]
    }
   ],
   "source": [
    "dataset = Lyric(batch_size=128, fix_length=32, target_vocab_size=10000)\n",
    "net = model(dataset, model_name=\"周杰伦_50.pkl\", train=False)"
   ]
  },
  {
   "cell_type": "code",
   "execution_count": 3,
   "metadata": {
    "collapsed": true
   },
   "outputs": [],
   "source": [
    "def generator(title, total_sentence=16):\n",
    "    encoder_input = dataset.process(title)\n",
    "    song = []\n",
    "    for i in range(total_sentence):\n",
    "        s = []\n",
    "        output = net.predict(encoder_input)\n",
    "        word = dataset.logist2word(output)[0]\n",
    "        if word in dataset.itos[:50] + [s[0] for s in song[-3:]]:\n",
    "            word = dataset.logist2word(output, topn=3)\n",
    "            word = random.choice(word)\n",
    "        next_input = dataset.stoi[word]\n",
    "        s.append(word)\n",
    "        while word != \"<eos>\":\n",
    "            output = net.next(next_input)\n",
    "            word = dataset.logist2word(output)[0]\n",
    "            next_input = dataset.stoi[word]\n",
    "            s.append(word)\n",
    "        song.append(s[:-1])\n",
    "        encoder_input = dataset.process(\"\".join(s[:-1]))\n",
    "    song = [\"\".join(s) for s in song]\n",
    "    return song"
   ]
  },
  {
   "cell_type": "code",
   "execution_count": 5,
   "metadata": {
    "scrolled": false
   },
   "outputs": [
    {
     "name": "stderr",
     "output_type": "stream",
     "text": [
      "/Users/dengxiuqi/anaconda3/lib/python3.6/site-packages/torch/nn/functional.py:1374: UserWarning: nn.functional.tanh is deprecated. Use torch.tanh instead.\n",
      "  warnings.warn(\"nn.functional.tanh is deprecated. Use torch.tanh instead.\")\n"
     ]
    },
    {
     "data": {
      "text/plain": [
       "['你说这一句很有夏天的感觉',\n",
       " '手中的夕阳是我的歌',\n",
       " '吹着我的心',\n",
       " '你说爱我没有',\n",
       " '对不起',\n",
       " '广场上的月光',\n",
       " '我将温暖放在胸口',\n",
       " '让我爱上有你的黑夜',\n",
       " '无声的眼泪',\n",
       " '残留在记忆中',\n",
       " '如电话在练习',\n",
       " '我的音乐',\n",
       " '在你胸口轻轻叹息',\n",
       " '你的嘴角那给我',\n",
       " '想的的是你我的',\n",
       " '所以是你已经真了']"
      ]
     },
     "execution_count": 5,
     "metadata": {},
     "output_type": "execute_result"
    }
   ],
   "source": [
    "generator(\"窗外的麻雀在电线杆上多嘴\")"
   ]
  },
  {
   "cell_type": "code",
   "execution_count": 4,
   "metadata": {
    "scrolled": true
   },
   "outputs": [
    {
     "name": "stderr",
     "output_type": "stream",
     "text": [
      "/Users/dengxiuqi/anaconda3/lib/python3.6/site-packages/torch/nn/functional.py:1374: UserWarning: nn.functional.tanh is deprecated. Use torch.tanh instead.\n",
      "  warnings.warn(\"nn.functional.tanh is deprecated. Use torch.tanh instead.\")\n"
     ]
    },
    {
     "data": {
      "image/png": "[encoded data removed]",
      "text/plain": [
       "<Figure size 432x288 with 1 Axes>"
      ]
     },
     "metadata": {},
     "output_type": "display_data"
    }
   ],
   "source": [
    "attention_visualization(dataset, net, \"窗外的麻雀在电线杆上多嘴\", \"你说这一句很有夏天的感觉\", file_name=\"1\")"
   ]
  },
  {
   "cell_type": "code",
   "execution_count": 4,
   "metadata": {},
   "outputs": [
    {
     "name": "stderr",
     "output_type": "stream",
     "text": [
      "/Users/dengxiuqi/anaconda3/lib/python3.6/site-packages/torch/nn/functional.py:1374: UserWarning: nn.functional.tanh is deprecated. Use torch.tanh instead.\n",
      "  warnings.warn(\"nn.functional.tanh is deprecated. Use torch.tanh instead.\")\n"
     ]
    },
    {
     "data": {
      "text/plain": [
       "['但偏偏风渐渐把距离吹得好远',\n",
       " '好不容易又能再多爱一天',\n",
       " '但故事的最后你好像还是说了拜拜',\n",
       " '只想要给我一首歌的时间',\n",
       " '你低头地亲吻我',\n",
       " '我却微笑绝不说',\n",
       " '认真的我都不说',\n",
       " '琴弦的嘴却配着我的模样',\n",
       " '那一块梦就像画一在那张里',\n",
       " '而我看不见你的脸']"
      ]
     },
     "execution_count": 4,
     "metadata": {},
     "output_type": "execute_result"
    }
   ],
   "source": [
    "generator(\"从前从前有个人爱你很久\", total_sentence=10)"
   ]
  },
  {
   "cell_type": "code",
   "execution_count": 7,
   "metadata": {},
   "outputs": [
    {
     "name": "stderr",
     "output_type": "stream",
     "text": [
      "/Users/dengxiuqi/anaconda3/lib/python3.6/site-packages/torch/nn/functional.py:1374: UserWarning: nn.functional.tanh is deprecated. Use torch.tanh instead.\n",
      "  warnings.warn(\"nn.functional.tanh is deprecated. Use torch.tanh instead.\")\n"
     ]
    },
    {
     "data": {
      "image/png": "[encoded data removed]",
      "text/plain": [
       "<Figure size 432x288 with 1 Axes>"
      ]
     },
     "metadata": {},
     "output_type": "display_data"
    }
   ],
   "source": [
    "attention_visualization(dataset, net, \"从前从前有个人爱你很久\", \"但偏偏风渐渐把距离吹得好远\", file_name=\"2\")"
   ]
  },
  {
   "cell_type": "code",
   "execution_count": 6,
   "metadata": {
    "scrolled": false
   },
   "outputs": [
    {
     "name": "stderr",
     "output_type": "stream",
     "text": [
      "/Users/dengxiuqi/anaconda3/lib/python3.6/site-packages/torch/nn/functional.py:1374: UserWarning: nn.functional.tanh is deprecated. Use torch.tanh instead.\n",
      "  warnings.warn(\"nn.functional.tanh is deprecated. Use torch.tanh instead.\")\n"
     ]
    },
    {
     "data": {
      "text/plain": [
       "['远方的爱情在很远的想念',\n",
       " '当我遇见你是一种很简单的人',\n",
       " '就算我是你身边那是一场悲剧',\n",
       " '我的爱是我想你是唯一的出口',\n",
       " '牵着我在我身旁',\n",
       " '绕过那海鸥',\n",
       " '风吹你出现',\n",
       " '我只有你知道我',\n",
       " '这一切都是很美',\n",
       " '我想再等你的模样',\n",
       " '想回到过去的梦',\n",
       " '重新去爱上你',\n",
       " '你要我怎么说',\n",
       " '怎么怎么想',\n",
       " '雨雨了断了就走了就走了',\n",
       " '雨不等我的期待还不了']"
      ]
     },
     "execution_count": 6,
     "metadata": {},
     "output_type": "execute_result"
    }
   ],
   "source": [
    "generator(\"花海晴天\")"
   ]
  },
  {
   "cell_type": "code",
   "execution_count": 11,
   "metadata": {},
   "outputs": [
    {
     "name": "stderr",
     "output_type": "stream",
     "text": [
      "/Users/dengxiuqi/anaconda3/lib/python3.6/site-packages/torch/nn/functional.py:1374: UserWarning: nn.functional.tanh is deprecated. Use torch.tanh instead.\n",
      "  warnings.warn(\"nn.functional.tanh is deprecated. Use torch.tanh instead.\")\n"
     ]
    },
    {
     "data": {
      "text/plain": [
       "['冷咖啡离开了杯垫',\n",
       " '你手起来',\n",
       " '就像冰的的甜蜜',\n",
       " '只让我们有不同的',\n",
       " '天真的',\n",
       " '天涯如酒',\n",
       " '目光如酒',\n",
       " '风乱吹',\n",
       " '冬天',\n",
       " '只剩下钢琴',\n",
       " '广场的老片浪漫的钟',\n",
       " '那是谁被的名和名和期待',\n",
       " '雨下的一片彩虹',\n",
       " '一股拉着让我把爱放',\n",
       " '让我爱上只会不爱牛奶',\n",
       " '连一起来不掉泪']"
      ]
     },
     "execution_count": 11,
     "metadata": {},
     "output_type": "execute_result"
    }
   ],
   "source": [
    "generator(\"不能说的秘密\")"
   ]
  },
  {
   "cell_type": "code",
   "execution_count": 15,
   "metadata": {},
   "outputs": [
    {
     "name": "stderr",
     "output_type": "stream",
     "text": [
      "/Users/dengxiuqi/anaconda3/lib/python3.6/site-packages/torch/nn/functional.py:1374: UserWarning: nn.functional.tanh is deprecated. Use torch.tanh instead.\n",
      "  warnings.warn(\"nn.functional.tanh is deprecated. Use torch.tanh instead.\")\n"
     ]
    },
    {
     "data": {
      "text/plain": [
       "['我想对你说',\n",
       " '也可以让我知道',\n",
       " '但不是别人开着唱着',\n",
       " '不想都是很喜欢你',\n",
       " '你说你说你跟我',\n",
       " '不需要我的结果',\n",
       " '全都被期待',\n",
       " '哦真心话',\n",
       " '我说你说你爱你',\n",
       " '你说你爱他',\n",
       " '把爱现在都没有',\n",
       " '你说你爱到了尽头',\n",
       " '只是我给你爱',\n",
       " '没有你的世界就像我一样',\n",
       " '每天都会这么想',\n",
       " '比冬天的温柔']"
      ]
     },
     "execution_count": 15,
     "metadata": {},
     "output_type": "execute_result"
    }
   ],
   "source": [
    "generator(\"十年\")"
   ]
  },
  {
   "cell_type": "code",
   "execution_count": 16,
   "metadata": {},
   "outputs": [
    {
     "name": "stderr",
     "output_type": "stream",
     "text": [
      "/Users/dengxiuqi/anaconda3/lib/python3.6/site-packages/torch/nn/functional.py:1374: UserWarning: nn.functional.tanh is deprecated. Use torch.tanh instead.\n",
      "  warnings.warn(\"nn.functional.tanh is deprecated. Use torch.tanh instead.\")\n"
     ]
    },
    {
     "data": {
      "text/plain": [
       "['一盏离愁的日出',\n",
       " '花开了你是否还美丽',\n",
       " '像我说你没有你才完美',\n",
       " '我不要你的音乐',\n",
       " '就像我将它成了你的下',\n",
       " '你的微笑慢慢酝酿',\n",
       " '我的心跳你的温柔',\n",
       " '想给你穿梭的时间',\n",
       " '你说你会相信别人',\n",
       " '会不会会不会',\n",
       " '我想你是难过',\n",
       " '这街上太好',\n",
       " '不是我不好',\n",
       " '只是我没有人能说',\n",
       " '但我不知道你要怎么会',\n",
       " '有什么意义要怎么继续']"
      ]
     },
     "execution_count": 16,
     "metadata": {},
     "output_type": "execute_result"
    }
   ],
   "source": [
    "generator(\"东风破\")"
   ]
  },
  {
   "cell_type": "code",
   "execution_count": 21,
   "metadata": {
    "scrolled": false
   },
   "outputs": [
    {
     "name": "stderr",
     "output_type": "stream",
     "text": [
      "/Users/dengxiuqi/anaconda3/lib/python3.6/site-packages/torch/nn/functional.py:1374: UserWarning: nn.functional.tanh is deprecated. Use torch.tanh instead.\n",
      "  warnings.warn(\"nn.functional.tanh is deprecated. Use torch.tanh instead.\")\n"
     ]
    },
    {
     "data": {
      "text/plain": [
       "['我们不再被拥有',\n",
       " '故事的声音',\n",
       " '我们在地平线上睡着',\n",
       " '不同的我们',\n",
       " '我想我只能说的',\n",
       " '拆这的感觉',\n",
       " '好想再来唱我的妈妈',\n",
       " '拿着读着的歌谣',\n",
       " '把它忘在胸口里',\n",
       " '记得那老的回忆',\n",
       " '回忆是雨的下',\n",
       " '哭得好了',\n",
       " '那是下了力气',\n",
       " '别再想那躲',\n",
       " '别再想我',\n",
       " '没有你的感觉']"
      ]
     },
     "execution_count": 21,
     "metadata": {},
     "output_type": "execute_result"
    }
   ],
   "source": [
    "generator(\"一千年以后\")"
   ]
  },
  {
   "cell_type": "code",
   "execution_count": null,
   "metadata": {
    "collapsed": true
   },
   "outputs": [],
   "source": []
  }
 ],
 "metadata": {
  "kernelspec": {
   "display_name": "Python 3",
   "language": "python",
   "name": "python3"
  },
  "language_info": {
   "codemirror_mode": {
    "name": "ipython",
    "version": 3
   },
   "file_extension": ".py",
   "mimetype": "text/x-python",
   "name": "python",
   "nbconvert_exporter": "python",
   "pygments_lexer": "ipython3",
   "version": "3.6.8"
  }
 },
 "nbformat": 4,
 "nbformat_minor": 2
}
