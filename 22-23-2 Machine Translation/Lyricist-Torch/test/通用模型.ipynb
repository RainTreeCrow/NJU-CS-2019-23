{
 "cells": [
  {
   "cell_type": "code",
   "execution_count": 1,
   "metadata": {
    "collapsed": true
   },
   "outputs": [],
   "source": [
    "import sys\n",
    "import random\n",
    "sys.path.append(\"..\")\n",
    "from data import Lyric\n",
    "from utils import model, attention_visualization"
   ]
  },
  {
   "cell_type": "code",
   "execution_count": 2,
   "metadata": {},
   "outputs": [
    {
     "name": "stderr",
     "output_type": "stream",
     "text": [
      "Building prefix dict from the default dictionary ...\n",
      "Loading model from cache C:\\Users\\SLEEPY~1\\AppData\\Local\\Temp\\jieba.cache\n",
      "Loading model cost 2.820 seconds.\n",
      "Prefix dict has been built successfully.\n"
     ]
    }
   ],
   "source": [
    "dataset = Lyric(batch_size=128, fix_length=32, target_vocab_size=10000)\n",
    "net = model(dataset, model_name=\"pre_trained_100.pkl\", train=False)"
   ]
  },
  {
   "cell_type": "code",
   "execution_count": 3,
   "metadata": {
    "collapsed": true
   },
   "outputs": [],
   "source": [
    "def generator(title, total_sentence=16):\n",
    "    encoder_input = dataset.process(title)\n",
    "    song = []\n",
    "    for i in range(total_sentence):\n",
    "        s = []\n",
    "        output = net.predict(encoder_input)\n",
    "        word = dataset.logist2word(output)[0]\n",
    "        if word in dataset.itos[:50] + [s[0] for s in song[-3:]]:\n",
    "            word = dataset.logist2word(output, topn=3)\n",
    "            word = random.choice(word)\n",
    "        next_input = dataset.stoi[word]\n",
    "        s.append(word)\n",
    "        while word != \"<eos>\":\n",
    "            output = net.next(next_input)\n",
    "            word = dataset.logist2word(output)[0]\n",
    "            next_input = dataset.stoi[word]\n",
    "            s.append(word)\n",
    "        song.append(s[:-1])\n",
    "        encoder_input = dataset.process(\"\".join(s[:-1]))\n",
    "    song = [\"\".join(s) for s in song]\n",
    "    return song"
   ]
  },
  {
   "cell_type": "code",
   "execution_count": 4,
   "metadata": {},
   "outputs": [
    {
     "name": "stderr",
     "output_type": "stream",
     "text": [
      "c:\\Users\\Sleepyard\\miniconda3\\envs\\d2l\\lib\\site-packages\\torch\\nn\\functional.py:1795: UserWarning: nn.functional.tanh is deprecated. Use torch.tanh instead.\n",
      "  warnings.warn(\"nn.functional.tanh is deprecated. Use torch.tanh instead.\")\n"
     ]
    },
    {
     "data": {
      "text/plain": [
       "['如果你的眼神',\n",
       " '会不会有明天',\n",
       " '不知道你的梦',\n",
       " '也不会沉默',\n",
       " '感情的事要赶快去面对面',\n",
       " '吵架也不需要',\n",
       " '没人说爱你是种解脱',\n",
       " '你的爱是我的',\n",
       " '那一天的你',\n",
       " '我拥抱着一颗心',\n",
       " '却冷却在我心里',\n",
       " '我的心在轻扣你的梦',\n",
       " '心里的声音',\n",
       " '我不停寻找',\n",
       " '不知道你的爱',\n",
       " '是我唯一的念头']"
      ]
     },
     "execution_count": 4,
     "metadata": {},
     "output_type": "execute_result"
    }
   ],
   "source": [
    "generator(\"爱情转移\")"
   ]
  },
  {
   "cell_type": "code",
   "execution_count": 5,
   "metadata": {},
   "outputs": [
    {
     "data": {
      "text/plain": [
       "['若是你的我',\n",
       " '你是我的宝贝',\n",
       " '你魔术眼睛',\n",
       " '是我的心情',\n",
       " '你是我的心情',\n",
       " '我的心不懂',\n",
       " '曾在你的面前',\n",
       " '曾在风里荡漾',\n",
       " '从不知到今天',\n",
       " '不要再问',\n",
       " '如果你会在眼前',\n",
       " '我也坠入体会',\n",
       " '不灭的宿命',\n",
       " '自由的人',\n",
       " '小城草原',\n",
       " '是否在等着你']"
      ]
     },
     "execution_count": 5,
     "metadata": {},
     "output_type": "execute_result"
    }
   ],
   "source": [
    "generator(\"倾城\")"
   ]
  },
  {
   "cell_type": "code",
   "execution_count": 6,
   "metadata": {},
   "outputs": [
    {
     "data": {
      "text/plain": [
       "['我的心我的心',\n",
       " '我的心你的心',\n",
       " '都是爱的罪',\n",
       " '是不是你会心疼',\n",
       " '你的温柔却不懂爱',\n",
       " '浓情越浓',\n",
       " '越多越爱越狂',\n",
       " '越爱越难过',\n",
       " '我越爱越心痛',\n",
       " '越爱越激',\n",
       " '你的爱是场戏',\n",
       " '又凭不到你',\n",
       " '共你今天的爱',\n",
       " '是真心爱我爱我',\n",
       " '就是爱你爱我',\n",
       " '请你爱我吧']"
      ]
     },
     "execution_count": 6,
     "metadata": {},
     "output_type": "execute_result"
    }
   ],
   "source": [
    "generator(\"旅行的意义\")"
   ]
  },
  {
   "cell_type": "code",
   "execution_count": 7,
   "metadata": {},
   "outputs": [
    {
     "data": {
      "text/plain": [
       "['我的天',\n",
       " '有高的花儿',\n",
       " '我的心我的爱',\n",
       " '不要再想你',\n",
       " '只要你在我心底',\n",
       " '我要你在怀里边',\n",
       " '你会发觉我的寂寞',\n",
       " '恨不得你的心',\n",
       " '藏在我心底',\n",
       " '我依然在我心底荡漾',\n",
       " '我依赖',\n",
       " '如果你也会不在意',\n",
       " '我的心在闪烁',\n",
       " '我的心有你',\n",
       " '你的心我的心',\n",
       " '永远也没有']"
      ]
     },
     "execution_count": 7,
     "metadata": {},
     "output_type": "execute_result"
    }
   ],
   "source": [
    "generator(\"晴天\")"
   ]
  },
  {
   "cell_type": "code",
   "execution_count": 8,
   "metadata": {},
   "outputs": [
    {
     "data": {
      "text/plain": [
       "['我的心在颤抖',\n",
       " '你的心我的心我的心',\n",
       " '我的心你的心',\n",
       " '永远守护我',\n",
       " '那些真挚的情意',\n",
       " '诉情意的永远',\n",
       " '在我心里放不下',\n",
       " '你的笑我的心',\n",
       " '好像有一个人',\n",
       " '总是让我伤心',\n",
       " '你的心我的心',\n",
       " '永远也没有',\n",
       " '我已不愿你去',\n",
       " '不停留你的行踪',\n",
       " '我会我的心',\n",
       " '轻轻的一个吻']"
      ]
     },
     "execution_count": 8,
     "metadata": {},
     "output_type": "execute_result"
    }
   ],
   "source": [
    "generator(\"小幸运\")"
   ]
  },
  {
   "cell_type": "code",
   "execution_count": 9,
   "metadata": {},
   "outputs": [
    {
     "data": {
      "text/plain": [
       "['天也高',\n",
       " '但觉得好',\n",
       " '就算设法证实',\n",
       " '曾在某天我便足够',\n",
       " '仍难忘掉这段情',\n",
       " '她的手你的脸',\n",
       " '我的多情谁都不明白',\n",
       " '我的爱爱的人',\n",
       " '在我的胸膛里',\n",
       " '我的心有你的承诺',\n",
       " '也要爱上我的',\n",
       " '我的心在这里一万年',\n",
       " '每个人都是你的爱情',\n",
       " '你的眼神如此绝色',\n",
       " '今后或许是种恩惠',\n",
       " '不要再想你的心情']"
      ]
     },
     "execution_count": 9,
     "metadata": {},
     "output_type": "execute_result"
    }
   ],
   "source": [
    "generator(\"年少有为\")"
   ]
  },
  {
   "cell_type": "code",
   "execution_count": 10,
   "metadata": {},
   "outputs": [
    {
     "data": {
      "text/plain": [
       "['我只在乎归家',\n",
       " '那是不得计的不悔',\n",
       " '这是我让你而奉献',\n",
       " '这世界有你的要求',\n",
       " '人生的喜怒哀乐',\n",
       " '快乐的梦',\n",
       " '一天的太阳',\n",
       " '都坐在有你的季节',\n",
       " '有一些话都不算',\n",
       " '我想我就能把我忘记',\n",
       " '你说你要珍惜我勇敢的原谅',\n",
       " '你说你真的说再见',\n",
       " '却永远不知道',\n",
       " '我不能把你知道',\n",
       " '我的爱',\n",
       " '有谁会明白']"
      ]
     },
     "execution_count": 10,
     "metadata": {},
     "output_type": "execute_result"
    }
   ],
   "source": [
    "generator(\"春风十里\")"
   ]
  },
  {
   "cell_type": "code",
   "execution_count": 11,
   "metadata": {},
   "outputs": [
    {
     "data": {
      "text/plain": [
       "['你是我的唯一',\n",
       " '回忆在你的眼前',\n",
       " '为何我的心',\n",
       " '要是你爱我',\n",
       " '到底为什么',\n",
       " '如果你还在我的身上',\n",
       " '是不是你在我身边',\n",
       " '人来人往',\n",
       " '在门前睁开眼',\n",
       " '暗暗的温柔',\n",
       " '你是否依然爱我',\n",
       " '你的爱我的',\n",
       " '全部的我都没有',\n",
       " '你的温柔温柔的笑',\n",
       " '偶尔都是你',\n",
       " '你的微笑和我的微笑']"
      ]
     },
     "execution_count": 11,
     "metadata": {},
     "output_type": "execute_result"
    }
   ],
   "source": [
    "generator(\"说谎\")"
   ]
  },
  {
   "cell_type": "code",
   "execution_count": 12,
   "metadata": {},
   "outputs": [
    {
     "data": {
      "text/plain": [
       "['不适合',\n",
       " '你就是我唯一',\n",
       " '我永远',\n",
       " '在我的眼里',\n",
       " '你是我生命的碎片',\n",
       " '我要置身事外',\n",
       " '要是你要我多久',\n",
       " '都是最好的事情',\n",
       " '享受我的心情',\n",
       " '我要一台叫做你',\n",
       " '我要你来把你代我忘记',\n",
       " '若你说我不懂',\n",
       " '不知道我的爱人',\n",
       " '失去你的消息',\n",
       " '你的眼我的眼',\n",
       " '谁都是天使']"
      ]
     },
     "execution_count": 12,
     "metadata": {},
     "output_type": "execute_result"
    }
   ],
   "source": [
    "generator(\"倒带\")"
   ]
  },
  {
   "cell_type": "code",
   "execution_count": 14,
   "metadata": {
    "collapsed": true
   },
   "outputs": [
    {
     "data": {
      "text/plain": [
       "['天真的眼神',\n",
       " '我的心已无从跟踪',\n",
       " '我的心你的心',\n",
       " '永远守护我',\n",
       " '我的心情',\n",
       " '你的心',\n",
       " '在我的心里',\n",
       " '偶尔争执的机会',\n",
       " '你转身看看那日',\n",
       " '我的心我的心',\n",
       " '永远永远',\n",
       " '你的心',\n",
       " '我的心',\n",
       " '曾经的彩虹',\n",
       " '曾经的一个人的日子',\n",
       " '一个人的孤寂']"
      ]
     },
     "execution_count": 14,
     "metadata": {},
     "output_type": "execute_result"
    }
   ],
   "source": [
    "generator(\"生命之花\")"
   ]
  },
  {
   "cell_type": "code",
   "execution_count": 16,
   "metadata": {},
   "outputs": [
    {
     "data": {
      "text/plain": [
       "['是谁的侧脸',\n",
       " '火在我的窗',\n",
       " '漆黑的夜里',\n",
       " '漂在跟随',\n",
       " '走过多少回忆',\n",
       " '挥着我的手',\n",
       " '你的出现',\n",
       " '我捕捉',\n",
       " '精采的画面',\n",
       " '你的关怀',\n",
       " '我的心我的心',\n",
       " '我的心你的心',\n",
       " '我的爱总不能把你的心',\n",
       " '为什么你的心我的心',\n",
       " '为什么你的心我的心',\n",
       " '却偏偏藏在世界里面']"
      ]
     },
     "execution_count": 16,
     "metadata": {},
     "output_type": "execute_result"
    }
   ],
   "source": [
    "generator(\"夏夜晚风\")"
   ]
  },
  {
   "cell_type": "code",
   "execution_count": 17,
   "metadata": {},
   "outputs": [
    {
     "name": "stderr",
     "output_type": "stream",
     "text": [
      "c:\\Users\\Sleepyard\\miniconda3\\envs\\d2l\\lib\\site-packages\\torch\\nn\\functional.py:1795: UserWarning: nn.functional.tanh is deprecated. Use torch.tanh instead.\n",
      "  warnings.warn(\"nn.functional.tanh is deprecated. Use torch.tanh instead.\")\n"
     ]
    },
    {
     "data": {
      "text/plain": [
       "['还没学会',\n",
       " '你说过的再见',\n",
       " '我们说过的想法',\n",
       " '不知道谁会说得太多',\n",
       " '但我不太容易',\n",
       " '我的心不懂',\n",
       " '曾在你的面前',\n",
       " '在漫漫夜里一分泪',\n",
       " '望着你的一切渺渺',\n",
       " '怎能忘记这段情',\n",
       " '你的吻',\n",
       " '你的心',\n",
       " '在我的心里',\n",
       " '偶尔争执的机会',\n",
       " '我当然',\n",
       " '我愿意']"
      ]
     },
     "execution_count": 17,
     "metadata": {},
     "output_type": "execute_result"
    }
   ],
   "source": [
    "generator(\"一场游戏一场梦\")"
   ]
  },
  {
   "cell_type": "code",
   "execution_count": 21,
   "metadata": {},
   "outputs": [
    {
     "data": {
      "text/plain": [
       "['希望你能为我心疼',\n",
       " '我要你知道',\n",
       " '你要的是我的好',\n",
       " '我是真的付出你',\n",
       " '亲爱的我还是你',\n",
       " '也许你会不会',\n",
       " '也许我不曾拥有',\n",
       " '也不曾有你同行',\n",
       " '就算全世界我也可以忘记',\n",
       " '就是你的理由我都可以',\n",
       " '我的世界就是我的气息',\n",
       " '白天我的天际',\n",
       " '雾的那',\n",
       " '雷声闹哄哄',\n",
       " '你的嘴',\n",
       " '你的眼']"
      ]
     },
     "execution_count": 21,
     "metadata": {},
     "output_type": "execute_result"
    }
   ],
   "source": [
    "generator(\"容易受伤的女人\")"
   ]
  }
 ],
 "metadata": {
  "kernelspec": {
   "display_name": "Python 3",
   "language": "python",
   "name": "python3"
  },
  "language_info": {
   "codemirror_mode": {
    "name": "ipython",
    "version": 3
   },
   "file_extension": ".py",
   "mimetype": "text/x-python",
   "name": "python",
   "nbconvert_exporter": "python",
   "pygments_lexer": "ipython3",
   "version": "3.9.16"
  }
 },
 "nbformat": 4,
 "nbformat_minor": 2
}
