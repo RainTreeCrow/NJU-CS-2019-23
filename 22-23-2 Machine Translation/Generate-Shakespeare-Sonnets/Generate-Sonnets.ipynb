{
 "cells": [
  {
   "cell_type": "markdown",
   "metadata": {},
   "source": [
    "# Generating Shakespeare Sonnets with Deep Learning\n",
    "---\n",
    "Creating a character-level language model trained on William Shakespeare's sonnets.\n",
    "\n",
    "## Data Loading & Visualization"
   ]
  },
  {
   "cell_type": "code",
   "execution_count": 1,
   "metadata": {},
   "outputs": [
    {
     "name": "stdout",
     "output_type": "stream",
     "text": [
      "Numpy version: 1.12.1\n"
     ]
    }
   ],
   "source": [
    "import numpy as np\n",
    "import sys\n",
    "import os\n",
    "import matplotlib.pyplot as plt\n",
    "\n",
    "%matplotlib inline\n",
    "np.random.seed(21)\n",
    "\n",
    "print(\"Numpy version:\", np.__version__)"
   ]
  },
  {
   "cell_type": "markdown",
   "metadata": {},
   "source": [
    "Our corpus is composed of all of William Shakespeare's sonnets concatenated into a single text file. The sonnets were retrieved from [shakespeares-sonnets.com](http://www.shakespeares-sonnets.com/all.php). There are a total of 154 sonnets in the corpus."
   ]
  },
  {
   "cell_type": "code",
   "execution_count": 2,
   "metadata": {},
   "outputs": [
    {
     "name": "stdout",
     "output_type": "stream",
     "text": [
      "Corpus length: 94082 characters\n"
     ]
    }
   ],
   "source": [
    "with open('sonnets.txt', 'r') as f:\n",
    "    data = f.read().lower()\n",
    "\n",
    "print(\"Corpus length: %d characters\" % len(data))"
   ]
  },
  {
   "cell_type": "code",
   "execution_count": 3,
   "metadata": {},
   "outputs": [
    {
     "name": "stdout",
     "output_type": "stream",
     "text": [
      "Average sonnet length: 608.94 characters\n"
     ]
    },
    {
     "data": {
      "image/png": "[encoded data removed]",
      "text/plain": [
       "<matplotlib.figure.Figure at 0x10483e438>"
      ]
     },
     "metadata": {},
     "output_type": "display_data"
    }
   ],
   "source": [
    "# Visualize sonnet character length\n",
    "sonnets = data.split('\\n\\n')\n",
    "sonnet_lens = [len(sonnet) for sonnet in sonnets]\n",
    "\n",
    "print('Average sonnet length: %.2f characters' % np.mean(sonnet_lens))\n",
    "\n",
    "plt.figure(figsize=(15,10))\n",
    "plt.bar([i for i in range(1, len(sonnets)+1)], sonnet_lens)\n",
    "plt.title('Number of Characters per sonnet')\n",
    "plt.ylabel('# Characters')\n",
    "plt.xlabel('Sonnets')\n",
    "plt.show()"
   ]
  },
  {
   "cell_type": "markdown",
   "metadata": {},
   "source": [
    "Sonnet 145 is Shakespeare's shortest sonnet at 506 characters long while sonnet 11 is the longest with 673 characters. Since the average sonnet length is ~608 characters long when we generate characters later we will generate 600 characters to create 1 sonnet."
   ]
  },
  {
   "cell_type": "markdown",
   "metadata": {},
   "source": [
    "## Vectorization\n",
    "---\n",
    "Now we will set the maximum length a sequence can have, how many characters to skip when we grab a new sample, and create a vector of targets (the next character in the sequence). The `sentences` variable will hold all our training samples where each sample will be 40 characters from the dataset offset by 3 characters from the previous sample. Here is an example where `maxlen` is 40 and `step` is 3:\n",
    "\n",
    "**Sentence 1:**\n",
    "    \n",
    "    'from fairest creatures we desire increas'\n",
    "\n",
    "**Target 1:**\n",
    "\n",
    "    'e'\n",
    "\n",
    "**Sentence 2:**\n",
    "\n",
    "    'm fairest creatures we desire increase,\\n'\n",
    "\n",
    "**Target 2:**\n",
    "\n",
    "    't'\n",
    "    \n",
    "**Sentence 3:**\n",
    "\n",
    "    'airest creatures we desire increase,\\ntha'\n",
    "\n",
    "**Target 3:**\n",
    "\n",
    "    't'\n",
    "    \n",
    "For context here are the first 100 characters in the corpus:\n",
    "    \n",
    "    'from fairest creatures we desire increase,\\nthat thereby beauty's rose might never die,\\nbut as the ri'"
   ]
  },
  {
   "cell_type": "code",
   "execution_count": 4,
   "metadata": {
    "scrolled": true
   },
   "outputs": [
    {
     "name": "stdout",
     "output_type": "stream",
     "text": [
      "Number of sequences: 31348\n",
      "Number of unique characters: 38\n"
     ]
    }
   ],
   "source": [
    "# Max length of each sequence\n",
    "maxlen = 40\n",
    "\n",
    "# Sample new sequence every step characters\n",
    "step = 3\n",
    "\n",
    "sentences = []\n",
    "targets = []\n",
    "\n",
    "# Loop through sonnets and create sequences and associated targets\n",
    "for i in range(0, len(data) - maxlen, step):\n",
    "    sentences.append(data[i:i + maxlen])\n",
    "    targets.append(data[maxlen + i])\n",
    "\n",
    "print(\"Number of sequences:\", len(sentences))\n",
    "\n",
    "# Grab all unique characters in corpus\n",
    "chars = sorted(list(set(data)))\n",
    "print(\"Number of unique characters:\", len(chars))\n",
    "\n",
    "# Dictionary mapping unique character to integer indices\n",
    "char_indices = dict((char, chars.index(char)) for char in chars)"
   ]
  },
  {
   "cell_type": "markdown",
   "metadata": {},
   "source": [
    "Now we will vectorize our data into a one-hot encoded tensor of shape **(num_sequences, max_sequence_length, num_characters)**."
   ]
  },
  {
   "cell_type": "code",
   "execution_count": 5,
   "metadata": {},
   "outputs": [
    {
     "name": "stdout",
     "output_type": "stream",
     "text": [
      "Size of training sequences: (31348, 40, 38)\n",
      "Size of training targets: (31348, 38)\n"
     ]
    }
   ],
   "source": [
    "# Vectorize sequences and targets\n",
    "x = np.zeros((len(sentences), maxlen, len(chars)), dtype=np.bool)\n",
    "y = np.zeros((len(sentences), len(chars)), dtype=np.bool)\n",
    "for i, sentence in enumerate(sentences):\n",
    "    for j, char in enumerate(sentence):\n",
    "        x[i, j, char_indices[char]] = 1\n",
    "    y[i, char_indices[targets[i]]] = 1\n",
    "\n",
    "print(\"Size of training sequences:\", x.shape)\n",
    "print(\"Size of training targets:\", y.shape)"
   ]
  },
  {
   "cell_type": "markdown",
   "metadata": {},
   "source": [
    "## Build Model\n",
    "---\n",
    "Here we will build and compile the deep learning model using Keras. The model will consist of 1 LSTM layer with a fully connected layer on top. The output has a softmax activation function applied so the output can be represented as a probability for each character in our list of possible characters."
   ]
  },
  {
   "cell_type": "code",
   "execution_count": 6,
   "metadata": {},
   "outputs": [
    {
     "name": "stderr",
     "output_type": "stream",
     "text": [
      "Using TensorFlow backend.\n"
     ]
    },
    {
     "name": "stdout",
     "output_type": "stream",
     "text": [
      "_________________________________________________________________\n",
      "Layer (type)                 Output Shape              Param #   \n",
      "=================================================================\n",
      "lstm_1 (LSTM)                (None, 128)               85504     \n",
      "_________________________________________________________________\n",
      "dense_1 (Dense)              (None, 38)                4902      \n",
      "=================================================================\n",
      "Total params: 90,406\n",
      "Trainable params: 90,406\n",
      "Non-trainable params: 0\n",
      "_________________________________________________________________\n"
     ]
    }
   ],
   "source": [
    "from keras.models import Sequential\n",
    "from keras.layers import Dense, LSTM\n",
    "\n",
    "model = Sequential()\n",
    "model.add(LSTM(128, input_shape=(maxlen, len(chars))))\n",
    "model.add(Dense(len(chars), activation='softmax'))\n",
    "\n",
    "model.summary()"
   ]
  },
  {
   "cell_type": "code",
   "execution_count": 7,
   "metadata": {},
   "outputs": [],
   "source": [
    "from keras.optimizers import SGD\n",
    "\n",
    "optimizer = SGD(lr=0.01, momentum=0.9, nesterov=True)\n",
    "model.compile(optimizer=optimizer, loss='categorical_crossentropy')"
   ]
  },
  {
   "cell_type": "markdown",
   "metadata": {},
   "source": [
    "The model will output a probability value for each character possible. Instead of choosing the character with the highest probability, we will reweight the probabilities and sample from them based on a \"temperature\" value. The higher the temperature the more likely a random character will be chosen, the lower the temperature the more deterministic the model will behave."
   ]
  },
  {
   "cell_type": "code",
   "execution_count": 8,
   "metadata": {},
   "outputs": [],
   "source": [
    "def sample(preds, temperature=1.0):\n",
    "    ''' Reweight the predicted probabilities and draw sample from newly created probability distribution. '''\n",
    "    preds = np.asarray(preds).astype('float64')\n",
    "    preds = np.log(preds) / temperature\n",
    "    exp_preds = np.exp(preds)\n",
    "    preds = exp_preds / np.sum(exp_preds)\n",
    "    probas = np.random.multinomial(1, preds, 1)\n",
    "    return np.argmax(probas)"
   ]
  },
  {
   "cell_type": "markdown",
   "metadata": {},
   "source": [
    "Now the model will be trained on the text and targets. After training for 1 epoch, a random sequence will be chosen from the training corpus and fed into the model. Using this \"seed text\" we will predict the next 600 characters at different temperatures and store them in different text files locally."
   ]
  },
  {
   "cell_type": "code",
   "execution_count": 9,
   "metadata": {
    "scrolled": true
   },
   "outputs": [
    {
     "name": "stdout",
     "output_type": "stream",
     "text": [
      "Epoch 1\n",
      "Epoch 1/1\n",
      "31348/31348 [==============================] - 30s 947us/step - loss: 3.1130\n",
      "Temp 0.2 done.\n",
      "Temp 0.5 done.\n",
      "Temp 1.0 done.\n",
      "Temp 1.3 done.\n",
      "Epoch 2\n",
      "Epoch 1/1\n",
      "31348/31348 [==============================] - 30s 948us/step - loss: 2.9861\n",
      "Temp 0.2 done.\n",
      "Temp 0.5 done.\n",
      "Temp 1.0 done.\n",
      "Temp 1.3 done.\n",
      "Epoch 3\n",
      "Epoch 1/1\n",
      "31348/31348 [==============================] - 30s 972us/step - loss: 2.9697\n",
      "Temp 0.2 done.\n",
      "Temp 0.5 done.\n",
      "Temp 1.0 done.\n",
      "Temp 1.3 done.\n",
      "Epoch 4\n",
      "Epoch 1/1\n",
      "31348/31348 [==============================] - 30s 960us/step - loss: 2.9458\n",
      "Temp 0.2 done.\n",
      "Temp 0.5 done.\n",
      "Temp 1.0 done.\n",
      "Temp 1.3 done.\n",
      "Epoch 5\n",
      "Epoch 1/1\n",
      "31348/31348 [==============================] - 31s 982us/step - loss: 2.9076\n",
      "Temp 0.2 done.\n",
      "Temp 0.5 done.\n",
      "Temp 1.0 done.\n",
      "Temp 1.3 done.\n",
      "Epoch 6\n",
      "Epoch 1/1\n",
      "31348/31348 [==============================] - 30s 956us/step - loss: 2.8379\n",
      "Temp 0.2 done.\n",
      "Temp 0.5 done.\n",
      "Temp 1.0 done.\n",
      "Temp 1.3 done.\n",
      "Epoch 7\n",
      "Epoch 1/1\n",
      "31348/31348 [==============================] - 30s 963us/step - loss: 2.7362\n",
      "Temp 0.2 done.\n",
      "Temp 0.5 done.\n",
      "Temp 1.0 done.\n",
      "Temp 1.3 done.\n",
      "Epoch 8\n",
      "Epoch 1/1\n",
      "31348/31348 [==============================] - 30s 960us/step - loss: 2.6347\n",
      "Temp 0.2 done.\n",
      "Temp 0.5 done.\n",
      "Temp 1.0 done.\n",
      "Temp 1.3 done.\n",
      "Epoch 9\n",
      "Epoch 1/1\n",
      "31348/31348 [==============================] - 29s 939us/step - loss: 2.5525\n",
      "Temp 0.2 done.\n",
      "Temp 0.5 done.\n",
      "Temp 1.0 done.\n",
      "Temp 1.3 done.\n",
      "Epoch 10\n",
      "Epoch 1/1\n",
      "31348/31348 [==============================] - 30s 962us/step - loss: 2.4932\n",
      "Temp 0.2 done.\n",
      "Temp 0.5 done.\n",
      "Temp 1.0 done.\n",
      "Temp 1.3 done.\n",
      "Epoch 11\n",
      "Epoch 1/1\n",
      "31348/31348 [==============================] - 30s 967us/step - loss: 2.4429\n",
      "Temp 0.2 done.\n",
      "Temp 0.5 done.\n",
      "Temp 1.0 done.\n",
      "Temp 1.3 done.\n",
      "Epoch 12\n",
      "Epoch 1/1\n",
      "31348/31348 [==============================] - 30s 959us/step - loss: 2.4023\n",
      "Temp 0.2 done.\n",
      "Temp 0.5 done.\n",
      "Temp 1.0 done.\n",
      "Temp 1.3 done.\n",
      "Epoch 13\n",
      "Epoch 1/1\n",
      "31348/31348 [==============================] - 30s 964us/step - loss: 2.3674\n",
      "Temp 0.2 done.\n",
      "Temp 0.5 done.\n",
      "Temp 1.0 done.\n",
      "Temp 1.3 done.\n",
      "Epoch 14\n",
      "Epoch 1/1\n",
      "31348/31348 [==============================] - 30s 959us/step - loss: 2.3363\n",
      "Temp 0.2 done.\n",
      "Temp 0.5 done.\n",
      "Temp 1.0 done.\n",
      "Temp 1.3 done.\n",
      "Epoch 15\n",
      "Epoch 1/1\n",
      "31348/31348 [==============================] - 30s 959us/step - loss: 2.3089\n",
      "Temp 0.2 done.\n",
      "Temp 0.5 done.\n",
      "Temp 1.0 done.\n",
      "Temp 1.3 done.\n",
      "Epoch 16\n",
      "Epoch 1/1\n",
      "31348/31348 [==============================] - 29s 930us/step - loss: 2.2830\n",
      "Temp 0.2 done.\n",
      "Temp 0.5 done.\n",
      "Temp 1.0 done.\n",
      "Temp 1.3 done.\n",
      "Epoch 17\n",
      "Epoch 1/1\n",
      "31348/31348 [==============================] - 31s 976us/step - loss: 2.2601\n",
      "Temp 0.2 done.\n",
      "Temp 0.5 done.\n",
      "Temp 1.0 done.\n",
      "Temp 1.3 done.\n",
      "Epoch 18\n",
      "Epoch 1/1\n",
      "31348/31348 [==============================] - 30s 947us/step - loss: 2.2388\n",
      "Temp 0.2 done.\n",
      "Temp 0.5 done.\n",
      "Temp 1.0 done.\n",
      "Temp 1.3 done.\n",
      "Epoch 19\n",
      "Epoch 1/1\n",
      "31348/31348 [==============================] - 31s 984us/step - loss: 2.2208\n",
      "Temp 0.2 done.\n",
      "Temp 0.5 done.\n",
      "Temp 1.0 done.\n",
      "Temp 1.3 done.\n",
      "Epoch 20\n",
      "Epoch 1/1\n",
      "31348/31348 [==============================] - 29s 934us/step - loss: 2.1992\n",
      "Temp 0.2 done.\n",
      "Temp 0.5 done.\n",
      "Temp 1.0 done.\n",
      "Temp 1.3 done.\n",
      "Epoch 21\n",
      "Epoch 1/1\n",
      "31348/31348 [==============================] - 30s 944us/step - loss: 2.1825\n",
      "Temp 0.2 done.\n",
      "Temp 0.5 done.\n",
      "Temp 1.0 done.\n",
      "Temp 1.3 done.\n",
      "Epoch 22\n",
      "Epoch 1/1\n",
      "31348/31348 [==============================] - 30s 959us/step - loss: 2.1669\n",
      "Temp 0.2 done.\n",
      "Temp 0.5 done.\n",
      "Temp 1.0 done.\n",
      "Temp 1.3 done.\n",
      "Epoch 23\n",
      "Epoch 1/1\n",
      "31348/31348 [==============================] - 31s 979us/step - loss: 2.1505\n",
      "Temp 0.2 done.\n",
      "Temp 0.5 done.\n",
      "Temp 1.0 done.\n",
      "Temp 1.3 done.\n",
      "Epoch 24\n",
      "Epoch 1/1\n",
      "31348/31348 [==============================] - 30s 966us/step - loss: 2.1328\n",
      "Temp 0.2 done.\n",
      "Temp 0.5 done.\n",
      "Temp 1.0 done.\n",
      "Temp 1.3 done.\n",
      "Epoch 25\n",
      "Epoch 1/1\n",
      "31348/31348 [==============================] - 31s 1ms/step - loss: 2.1125\n",
      "Temp 0.2 done.\n",
      "Temp 0.5 done.\n",
      "Temp 1.0 done.\n",
      "Temp 1.3 done.\n",
      "Epoch 26\n",
      "Epoch 1/1\n",
      "31348/31348 [==============================] - 31s 976us/step - loss: 2.0955\n",
      "Temp 0.2 done.\n",
      "Temp 0.5 done.\n",
      "Temp 1.0 done.\n",
      "Temp 1.3 done.\n",
      "Epoch 27\n",
      "Epoch 1/1\n",
      "31348/31348 [==============================] - 30s 951us/step - loss: 2.0803\n",
      "Temp 0.2 done.\n",
      "Temp 0.5 done.\n",
      "Temp 1.0 done.\n",
      "Temp 1.3 done.\n",
      "Epoch 28\n",
      "Epoch 1/1\n",
      "31348/31348 [==============================] - 30s 951us/step - loss: 2.0755\n",
      "Temp 0.2 done.\n",
      "Temp 0.5 done.\n",
      "Temp 1.0 done.\n",
      "Temp 1.3 done.\n",
      "Epoch 29\n",
      "Epoch 1/1\n",
      "31348/31348 [==============================] - 30s 964us/step - loss: 2.0540\n",
      "Temp 0.2 done.\n",
      "Temp 0.5 done.\n",
      "Temp 1.0 done.\n",
      "Temp 1.3 done.\n",
      "Epoch 30\n",
      "Epoch 1/1\n",
      "31348/31348 [==============================] - 31s 985us/step - loss: 2.0395\n",
      "Temp 0.2 done.\n",
      "Temp 0.5 done.\n",
      "Temp 1.0 done.\n",
      "Temp 1.3 done.\n",
      "Epoch 31\n",
      "Epoch 1/1\n",
      "31348/31348 [==============================] - 30s 958us/step - loss: 2.0289\n",
      "Temp 0.2 done.\n",
      "Temp 0.5 done.\n",
      "Temp 1.0 done.\n",
      "Temp 1.3 done.\n",
      "Epoch 32\n",
      "Epoch 1/1\n",
      "31348/31348 [==============================] - 30s 970us/step - loss: 2.0178\n",
      "Temp 0.2 done.\n",
      "Temp 0.5 done.\n",
      "Temp 1.0 done.\n",
      "Temp 1.3 done.\n",
      "Epoch 33\n",
      "Epoch 1/1\n",
      "31348/31348 [==============================] - 31s 976us/step - loss: 2.0083\n",
      "Temp 0.2 done.\n",
      "Temp 0.5 done.\n",
      "Temp 1.0 done.\n",
      "Temp 1.3 done.\n",
      "Epoch 34\n",
      "Epoch 1/1\n",
      "31348/31348 [==============================] - 30s 969us/step - loss: 1.9940\n",
      "Temp 0.2 done.\n",
      "Temp 0.5 done.\n",
      "Temp 1.0 done.\n",
      "Temp 1.3 done.\n",
      "Epoch 35\n",
      "Epoch 1/1\n",
      "31348/31348 [==============================] - 30s 970us/step - loss: 1.9850\n",
      "Temp 0.2 done.\n",
      "Temp 0.5 done.\n",
      "Temp 1.0 done.\n",
      "Temp 1.3 done.\n",
      "Epoch 36\n",
      "Epoch 1/1\n",
      "31348/31348 [==============================] - 31s 981us/step - loss: 1.9749\n",
      "Temp 0.2 done.\n",
      "Temp 0.5 done.\n",
      "Temp 1.0 done.\n",
      "Temp 1.3 done.\n",
      "Epoch 37\n",
      "Epoch 1/1\n",
      "31348/31348 [==============================] - 29s 939us/step - loss: 1.9655\n",
      "Temp 0.2 done.\n",
      "Temp 0.5 done.\n",
      "Temp 1.0 done.\n",
      "Temp 1.3 done.\n",
      "Epoch 38\n",
      "Epoch 1/1\n",
      "31348/31348 [==============================] - 31s 974us/step - loss: 1.9572\n",
      "Temp 0.2 done.\n",
      "Temp 0.5 done.\n",
      "Temp 1.0 done.\n",
      "Temp 1.3 done.\n",
      "Epoch 39\n",
      "Epoch 1/1\n",
      "31348/31348 [==============================] - 30s 960us/step - loss: 1.9457\n",
      "Temp 0.2 done.\n",
      "Temp 0.5 done.\n",
      "Temp 1.0 done.\n",
      "Temp 1.3 done.\n",
      "Epoch 40\n",
      "Epoch 1/1\n",
      "31348/31348 [==============================] - 30s 958us/step - loss: 1.9388\n",
      "Temp 0.2 done.\n",
      "Temp 0.5 done.\n",
      "Temp 1.0 done.\n",
      "Temp 1.3 done.\n",
      "Epoch 41\n",
      "Epoch 1/1\n",
      "31348/31348 [==============================] - 30s 968us/step - loss: 1.9285\n",
      "Temp 0.2 done.\n",
      "Temp 0.5 done.\n",
      "Temp 1.0 done.\n",
      "Temp 1.3 done.\n",
      "Epoch 42\n",
      "Epoch 1/1\n",
      "31348/31348 [==============================] - 30s 960us/step - loss: 1.9215\n",
      "Temp 0.2 done.\n",
      "Temp 0.5 done.\n",
      "Temp 1.0 done.\n",
      "Temp 1.3 done.\n",
      "Epoch 43\n",
      "Epoch 1/1\n",
      "31348/31348 [==============================] - 1827s 58ms/step - loss: 1.9142\n",
      "Temp 0.2 done.\n",
      "Temp 0.5 done.\n",
      "Temp 1.0 done.\n",
      "Temp 1.3 done.\n",
      "Epoch 44\n",
      "Epoch 1/1\n",
      "31348/31348 [==============================] - 806s 26ms/step - loss: 1.9066\n",
      "Temp 0.2 done.\n",
      "Temp 0.5 done.\n",
      "Temp 1.0 done.\n",
      "Temp 1.3 done.\n",
      "Epoch 45\n",
      "Epoch 1/1\n",
      "31348/31348 [==============================] - 29s 940us/step - loss: 1.8980\n",
      "Temp 0.2 done.\n",
      "Temp 0.5 done.\n",
      "Temp 1.0 done.\n",
      "Temp 1.3 done.\n",
      "Epoch 46\n",
      "Epoch 1/1\n",
      "31348/31348 [==============================] - 30s 946us/step - loss: 1.8909\n",
      "Temp 0.2 done.\n",
      "Temp 0.5 done.\n",
      "Temp 1.0 done.\n",
      "Temp 1.3 done.\n",
      "Epoch 47\n",
      "Epoch 1/1\n",
      "31348/31348 [==============================] - 30s 965us/step - loss: 1.8846\n",
      "Temp 0.2 done.\n",
      "Temp 0.5 done.\n",
      "Temp 1.0 done.\n",
      "Temp 1.3 done.\n",
      "Epoch 48\n",
      "Epoch 1/1\n",
      "31348/31348 [==============================] - 30s 961us/step - loss: 1.8772\n",
      "Temp 0.2 done.\n",
      "Temp 0.5 done.\n",
      "Temp 1.0 done.\n",
      "Temp 1.3 done.\n",
      "Epoch 49\n",
      "Epoch 1/1\n",
      "31348/31348 [==============================] - 30s 956us/step - loss: 1.8699\n",
      "Temp 0.2 done.\n",
      "Temp 0.5 done.\n",
      "Temp 1.0 done.\n",
      "Temp 1.3 done.\n",
      "Epoch 50\n",
      "Epoch 1/1\n",
      "31348/31348 [==============================] - 30s 965us/step - loss: 1.8633\n",
      "Temp 0.2 done.\n",
      "Temp 0.5 done.\n",
      "Temp 1.0 done.\n",
      "Temp 1.3 done.\n",
      "Epoch 51\n",
      "Epoch 1/1\n",
      "31348/31348 [==============================] - 30s 958us/step - loss: 1.8549\n",
      "Temp 0.2 done.\n",
      "Temp 0.5 done.\n",
      "Temp 1.0 done.\n",
      "Temp 1.3 done.\n",
      "Epoch 52\n",
      "Epoch 1/1\n",
      "31348/31348 [==============================] - 31s 978us/step - loss: 1.8497\n",
      "Temp 0.2 done.\n",
      "Temp 0.5 done.\n",
      "Temp 1.0 done.\n",
      "Temp 1.3 done.\n",
      "Epoch 53\n",
      "Epoch 1/1\n",
      "31348/31348 [==============================] - 30s 964us/step - loss: 1.8420\n"
     ]
    },
    {
     "name": "stdout",
     "output_type": "stream",
     "text": [
      "Temp 0.2 done.\n",
      "Temp 0.5 done.\n",
      "Temp 1.0 done.\n",
      "Temp 1.3 done.\n",
      "Epoch 54\n",
      "Epoch 1/1\n",
      "31348/31348 [==============================] - 30s 963us/step - loss: 1.8354\n",
      "Temp 0.2 done.\n",
      "Temp 0.5 done.\n",
      "Temp 1.0 done.\n",
      "Temp 1.3 done.\n",
      "Epoch 55\n",
      "Epoch 1/1\n",
      "31348/31348 [==============================] - 30s 947us/step - loss: 1.8295\n",
      "Temp 0.2 done.\n",
      "Temp 0.5 done.\n",
      "Temp 1.0 done.\n",
      "Temp 1.3 done.\n",
      "Epoch 56\n",
      "Epoch 1/1\n",
      "31348/31348 [==============================] - 30s 952us/step - loss: 1.8241\n",
      "Temp 0.2 done.\n",
      "Temp 0.5 done.\n",
      "Temp 1.0 done.\n",
      "Temp 1.3 done.\n",
      "Epoch 57\n",
      "Epoch 1/1\n",
      "31348/31348 [==============================] - 30s 947us/step - loss: 1.8179\n",
      "Temp 0.2 done.\n",
      "Temp 0.5 done.\n",
      "Temp 1.0 done.\n",
      "Temp 1.3 done.\n",
      "Epoch 58\n",
      "Epoch 1/1\n",
      "31348/31348 [==============================] - 30s 965us/step - loss: 1.8112\n",
      "Temp 0.2 done.\n",
      "Temp 0.5 done.\n",
      "Temp 1.0 done.\n",
      "Temp 1.3 done.\n",
      "Epoch 59\n",
      "Epoch 1/1\n",
      "31348/31348 [==============================] - 30s 964us/step - loss: 1.8040\n",
      "Temp 0.2 done.\n",
      "Temp 0.5 done.\n",
      "Temp 1.0 done.\n",
      "Temp 1.3 done.\n",
      "Epoch 60\n",
      "Epoch 1/1\n",
      "31348/31348 [==============================] - 30s 959us/step - loss: 1.7983\n",
      "Temp 0.2 done.\n",
      "Temp 0.5 done.\n",
      "Temp 1.0 done.\n",
      "Temp 1.3 done.\n"
     ]
    }
   ],
   "source": [
    "epochs = 60\n",
    "\n",
    "loss = []  # Custom history list to save model's loss\n",
    "\n",
    "# Create directory to store generated text\n",
    "base_dir = 'generated_text'\n",
    "if not os.path.isdir(base_dir):\n",
    "    os.mkdir(base_dir)\n",
    "\n",
    "for epoch in range(1, epochs+1):\n",
    "    print(\"Epoch\", epoch)\n",
    "    # Fit model for 1 epoch then generate text given a seed.\n",
    "    history = model.fit(x, y, batch_size=128, epochs=1)\n",
    "    loss.append(history.history['loss'][0])\n",
    "    \n",
    "    # Create directory to store text for each epoch\n",
    "    epoch_dir = os.path.join(base_dir, 'epoch_' + str(epoch))\n",
    "    if not os.path.isdir(epoch_dir):\n",
    "        os.mkdir(epoch_dir)\n",
    "    \n",
    "    # Select a random seed text to feed into model and generate text\n",
    "    start_idx = np.random.randint(0, len(data) - maxlen - 1)\n",
    "    seed_text = data[start_idx:start_idx + maxlen]\n",
    "    for temp in [0.2, 0.5, 1.0, 1.3]:\n",
    "        generated_text = seed_text\n",
    "        temp_file = 'epoch' + str(epoch) + '_temp' + str(temp) + '.txt'\n",
    "        file = open(os.path.join(epoch_dir, temp_file), 'w')\n",
    "        file.write(generated_text)\n",
    "        \n",
    "        # Predict and generate 600 characters (approx. 1 sonnet length)\n",
    "        for i in range(600):\n",
    "            # Vectorize generated text\n",
    "            sampled = np.zeros((1, maxlen, len(chars)))\n",
    "            for j, char in enumerate(generated_text):\n",
    "                sampled[0, j, char_indices[char]] = 1.\n",
    "            \n",
    "            # Predict next character\n",
    "            preds = model.predict(sampled, verbose=0)[0]\n",
    "            pred_idx = sample(preds, temperature=temp)\n",
    "            next_char = chars[pred_idx]\n",
    "            \n",
    "            # Append predicted character to seed text\n",
    "            generated_text += next_char\n",
    "            generated_text = generated_text[1:]\n",
    "            \n",
    "            # Write to text file\n",
    "            file.write(next_char)\n",
    "        print('Temp ' + str(temp) + \" done.\")\n",
    "        file.close()"
   ]
  },
  {
   "cell_type": "markdown",
   "metadata": {},
   "source": [
    "## Generating New Sonnets\n",
    "---\n",
    "Here we will pick a random seed text from the training data and predict 600 (average sonnet length) new characters using our newly trained model. We will also use a temperature of 0.5 because that gives a good balance between randomness and deterministic behaviour."
   ]
  },
  {
   "cell_type": "code",
   "execution_count": 14,
   "metadata": {},
   "outputs": [],
   "source": [
    "def generate_sonnet(temp):\n",
    "    ''' Given a temperature, generate a new sonnet '''\n",
    "    start_idx = np.random.randint(0, len(data) - maxlen - 1)\n",
    "    new_sonnet = data[start_idx:start_idx + maxlen]\n",
    "    sys.stdout.write(new_sonnet)\n",
    "    for i in range(600):\n",
    "        # Vectorize generated text\n",
    "        sampled = np.zeros((1, maxlen, len(chars)))\n",
    "        for j, char in enumerate(new_sonnet):\n",
    "            sampled[0, j, char_indices[char]] = 1.\n",
    "\n",
    "        # Predict next character\n",
    "        preds = model.predict(sampled, verbose=0)[0]\n",
    "        pred_idx = sample(preds, temperature=temp)\n",
    "        next_char = chars[pred_idx]\n",
    "\n",
    "        # Append predicted character to seed text\n",
    "        new_sonnet += next_char\n",
    "        new_sonnet = new_sonnet[1:]\n",
    "\n",
    "        # Print to console\n",
    "        sys.stdout.write(next_char)\n",
    "        sys.stdout.flush()"
   ]
  },
  {
   "cell_type": "code",
   "execution_count": 10,
   "metadata": {
    "scrolled": false
   },
   "outputs": [
    {
     "name": "stdout",
     "output_type": "stream",
     "text": [
      " art blamed shall not be thy defect,\n",
      "for the creves and my mast ponge me for dome.\n",
      "the shald so sweet from be the suring thee,\n",
      "when thou thee art thou do the should dose men wher stinger, and stire the conter the creat,\n",
      "the sal to bing ald the with sheed all and,\n",
      "and hace the mine love the sor dear thing,\n",
      "to may thas the ort in thee that heart cheant;\n",
      "the ssorl so seare the of the woul thou shate all thee worth thee fart o thee,\n",
      "for my nes the stire the hear whing i tree.\n",
      "\n",
      "his it she proon where my semer the still greet,\n",
      "and the mes preas the sum the burt of thee,\n",
      "what the se for more the eve the soul so thee.\n",
      "\n",
      "wher hat the stare ma"
     ]
    }
   ],
   "source": [
    "# Generate new sonnets at 0.5 temperature\n",
    "generate_sonnet(0.5)"
   ]
  },
  {
   "cell_type": "code",
   "execution_count": 11,
   "metadata": {},
   "outputs": [
    {
     "name": "stdout",
     "output_type": "stream",
     "text": [
      " sake lay on me this cross:\n",
      "but here's the stree the sweet with the seart,\n",
      "and the stare the see my see wher the store,\n",
      "the should the stire the stree the sur thee,\n",
      "and the still the san the stare the see be the store,\n",
      "and i st me for me of the stee the sered\n",
      "my the ere the sor the spee when the seet,\n",
      "the so the sor more the sere the sweet steee.\n",
      "the prough the sure the sell in the sell\n",
      "when the the ere wher hand the sweet shath the see the sered\n",
      "and the store the sweet wher hath the sered the see the seed\n",
      "and the stire the seres wher shat thou shat the sere the see the seet steee,\n",
      "the sor the ser the spore the sure the see,\n",
      "the sor"
     ]
    }
   ],
   "source": [
    "# Generate new sonnets at 0.2 temperature\n",
    "generate_sonnet(0.2)"
   ]
  },
  {
   "cell_type": "markdown",
   "metadata": {},
   "source": [
    "Based on the model's output above it learns to format the sonnet correctly most of the time and seems to have learned to separate words with spaces which is impressive since this is a character-level language model. Something interesting it does is it adds punctuation to the end of most lines which is exactly what Shakespeare does in his sonnets. The output where the temperature is 0.2 has a lot of repetition in it. It is probably entering a loop where it sees some sequence of characters before it and predicts the same characters over and over again. This is evident in the last few lines where words like \"see the seed\" and \"the sor\" and \"and the\" appear frequently. Although this behaviour can be expected with such a low temperature. There is not much change to the probability distribution after reweighting the model's outputs.\n",
    "\n",
    "The first example at temperature 0.5 has more word variety but also more spelling mistakes due to the fact that there is more randomness involved in choosing the next character.\n",
    "\n",
    "Below the temperature is higher meaning that there will be more random guessing for the next character which explains why there are a lot of spelling mistakes and bizarre words. I think 0.5 is a good temperature for resampling probabilities because too high (1.0 and up) will cause the model to output lot of random letters and will end up being a jumbled mess."
   ]
  },
  {
   "cell_type": "code",
   "execution_count": 12,
   "metadata": {
    "scrolled": true
   },
   "outputs": [
    {
     "name": "stdout",
     "output_type": "stream",
     "text": [
      "then, dear friend, and i assure ye,\n",
      "even, he strmins bmire heal ber)eng thou, shagl thou, fedl thou, to may ther's demine,\n",
      "he race an buwt ghin to thou thow weath repr;sing my fun,\n",
      "not ha loo hou and owe lovers for eyer dome\n",
      "the sporce ay more in then to not were piepsent withs owh bres,\n",
      "whenche for he sable whar beauty; swmer' ariss sthem stall, mar by yfoul,\n",
      "whore ched othestrus be that whight dooun,\n",
      "with re bace mone all swill kide sugh and adaradt\n",
      "hat mis po you leve the noul ancus me mean\n",
      "beeet fear shelus were)y my nevire the wronkt';;\n",
      "chence aixe of when gaaguugh and mumi's;\n",
      "with that you theer is ad of rence pulld,\n",
      "thy lood,"
     ]
    }
   ],
   "source": [
    "# Generate new sonnet with 1.0 temp\n",
    "generate_sonnet(1.0)"
   ]
  },
  {
   "cell_type": "code",
   "execution_count": 16,
   "metadata": {},
   "outputs": [
    {
     "data": {
      "image/png": "[encoded data removed]",
      "text/plain": [
       "<matplotlib.figure.Figure at 0x11d2d09b0>"
      ]
     },
     "metadata": {},
     "output_type": "display_data"
    }
   ],
   "source": [
    "# Plot model loss over epochs\n",
    "plt.plot([i for i in range(1, epochs+1)], loss)\n",
    "plt.xlabel('Epochs')\n",
    "plt.ylabel('Loss')\n",
    "plt.title('Model Loss')\n",
    "plt.show()"
   ]
  },
  {
   "cell_type": "markdown",
   "metadata": {},
   "source": [
    "Now we will save the final model for future use."
   ]
  },
  {
   "cell_type": "code",
   "execution_count": 17,
   "metadata": {
    "scrolled": true
   },
   "outputs": [],
   "source": [
    "# Save model\n",
    "model.save('shakespeare_sonnet_model.h5')"
   ]
  },
  {
   "cell_type": "markdown",
   "metadata": {},
   "source": [
    "## Things To Try\n",
    "---\n",
    "1. Stack recurrent layers\n",
    "2. Add bidirectional lstm layers\n",
    "3. Change maximum length of sequences (`maxlen` variable)\n",
    "4. Change step size (`step` variable)\n",
    "5. Train over longer epochs\n",
    "6. Change number of lstm units\n",
    "7. Experiment with different optimizers (rmsprop, adam)\n",
    "8. Try word-level language model"
   ]
  },
  {
   "cell_type": "code",
   "execution_count": null,
   "metadata": {},
   "outputs": [],
   "source": [
    "from keras.models import load_model\n",
    "\n",
    "# Load model\n",
    "model = load_model('shakespeare_sonnet_model.h5')"
   ]
  }
 ],
 "metadata": {
  "kernelspec": {
   "display_name": "Python 3",
   "language": "python",
   "name": "python3"
  },
  "language_info": {
   "codemirror_mode": {
    "name": "ipython",
    "version": 3
   },
   "file_extension": ".py",
   "mimetype": "text/x-python",
   "name": "python",
   "nbconvert_exporter": "python",
   "pygments_lexer": "ipython3",
   "version": "3.6.4"
  }
 },
 "nbformat": 4,
 "nbformat_minor": 2
}
